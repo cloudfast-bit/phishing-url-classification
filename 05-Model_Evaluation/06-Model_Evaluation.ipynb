{
 "cells": [
  {
   "cell_type": "code",
   "execution_count": 1,
   "metadata": {
    "colab": {
     "base_uri": "https://localhost:8080/",
     "height": 80
    },
    "colab_type": "code",
    "id": "qIep0B1WU5G5",
    "outputId": "89d92cea-c518-4137-ed04-c32869cf88f1"
   },
   "outputs": [
    {
     "name": "stderr",
     "output_type": "stream",
     "text": [
      "Using TensorFlow backend.\n"
     ]
    },
    {
     "data": {
      "text/html": [
       "<p style=\"color: red;\">\n",
       "The default version of TensorFlow in Colab will soon switch to TensorFlow 2.x.<br>\n",
       "We recommend you <a href=\"https://www.tensorflow.org/guide/migrate\" target=\"_blank\">upgrade</a> now \n",
       "or ensure your notebook will continue to use TensorFlow 1.x via the <code>%tensorflow_version 1.x</code> magic:\n",
       "<a href=\"https://colab.research.google.com/notebooks/tensorflow_version.ipynb\" target=\"_blank\">more info</a>.</p>\n"
      ],
      "text/plain": [
       "<IPython.core.display.HTML object>"
      ]
     },
     "metadata": {
      "tags": []
     },
     "output_type": "display_data"
    }
   ],
   "source": [
    "#Copyright 2019, Seokjun Bu, Softcomputing LAB all rights reserved.\n",
    "%matplotlib inline\n",
    "import keras\n",
    "import numpy as np\n",
    "import random\n",
    "import matplotlib.pyplot as plt\n",
    "import tensorflow as tf\n",
    "from keras import backend as K\n",
    "from keras.models import Model, load_model, Sequential\n",
    "from sklearn.model_selection import train_test_split\n",
    "from tensorflow.keras.utils import to_categorical\n",
    "from sklearn.metrics import classification_report, confusion_matrix"
   ]
  },
  {
   "cell_type": "code",
   "execution_count": 2,
   "metadata": {
    "colab": {
     "base_uri": "https://localhost:8080/",
     "height": 54
    },
    "colab_type": "code",
    "id": "2Cj6A6vIXfs8",
    "outputId": "e1ca9474-5f6f-46a0-d003-8c3e6eef4e45"
   },
   "outputs": [
    {
     "name": "stdout",
     "output_type": "stream",
     "text": [
      "Drive already mounted at /content/drive; to attempt to forcibly remount, call drive.mount(\"/content/drive\", force_remount=True).\n"
     ]
    }
   ],
   "source": [
    "from google.colab import drive\n",
    "drive.mount('/content/drive')"
   ]
  },
  {
   "cell_type": "code",
   "execution_count": null,
   "metadata": {
    "colab": {},
    "colab_type": "code",
    "id": "saXhuyaIXmHs"
   },
   "outputs": [],
   "source": [
    "data = np.load('/content/drive/My Drive/test_colab/dataset_2_char_cat_45000_15000_140.npy')"
   ]
  },
  {
   "cell_type": "code",
   "execution_count": 4,
   "metadata": {
    "colab": {
     "base_uri": "https://localhost:8080/",
     "height": 51
    },
    "colab_type": "code",
    "id": "Una-qZ27XrHu",
    "outputId": "f39cad75-31e6-4dd4-cbd2-c7251c3ff88b"
   },
   "outputs": [
    {
     "name": "stdout",
     "output_type": "stream",
     "text": [
      "(42000, 14000) (42000,)\n",
      "(18000, 14000) (18000,)\n"
     ]
    }
   ],
   "source": [
    "X, Y = data[:, 1:], data[:, 0]\n",
    "X_train, X_test, Y_train, Y_test = train_test_split(X, Y, train_size=0.7, shuffle=True, random_state=11)\n",
    "print(X_train.shape, Y_train.shape)\n",
    "print(X_test.shape, Y_test.shape)"
   ]
  },
  {
   "cell_type": "code",
   "execution_count": null,
   "metadata": {
    "colab": {},
    "colab_type": "code",
    "id": "gdrslb4sYWs3"
   },
   "outputs": [],
   "source": [
    "Y_train_cat, Y_test_cat = to_categorical(Y_train), to_categorical(Y_test)"
   ]
  },
  {
   "cell_type": "code",
   "execution_count": 6,
   "metadata": {
    "colab": {
     "base_uri": "https://localhost:8080/",
     "height": 751
    },
    "colab_type": "code",
    "id": "Ve3W7bOVZjYL",
    "outputId": "557721e1-9f1e-4e2e-8789-b82a756e4099"
   },
   "outputs": [
    {
     "name": "stdout",
     "output_type": "stream",
     "text": [
      "WARNING:tensorflow:From /usr/local/lib/python3.6/dist-packages/keras/backend/tensorflow_backend.py:541: The name tf.placeholder is deprecated. Please use tf.compat.v1.placeholder instead.\n",
      "\n",
      "WARNING:tensorflow:From /usr/local/lib/python3.6/dist-packages/keras/backend/tensorflow_backend.py:4432: The name tf.random_uniform is deprecated. Please use tf.random.uniform instead.\n",
      "\n",
      "WARNING:tensorflow:From /usr/local/lib/python3.6/dist-packages/keras/backend/tensorflow_backend.py:4267: The name tf.nn.max_pool is deprecated. Please use tf.nn.max_pool2d instead.\n",
      "\n",
      "WARNING:tensorflow:From /usr/local/lib/python3.6/dist-packages/keras/backend/tensorflow_backend.py:190: The name tf.get_default_session is deprecated. Please use tf.compat.v1.get_default_session instead.\n",
      "\n",
      "WARNING:tensorflow:From /usr/local/lib/python3.6/dist-packages/keras/backend/tensorflow_backend.py:197: The name tf.ConfigProto is deprecated. Please use tf.compat.v1.ConfigProto instead.\n",
      "\n",
      "WARNING:tensorflow:From /usr/local/lib/python3.6/dist-packages/keras/backend/tensorflow_backend.py:203: The name tf.Session is deprecated. Please use tf.compat.v1.Session instead.\n",
      "\n",
      "WARNING:tensorflow:From /usr/local/lib/python3.6/dist-packages/keras/backend/tensorflow_backend.py:207: The name tf.global_variables is deprecated. Please use tf.compat.v1.global_variables instead.\n",
      "\n",
      "WARNING:tensorflow:From /usr/local/lib/python3.6/dist-packages/keras/backend/tensorflow_backend.py:216: The name tf.is_variable_initialized is deprecated. Please use tf.compat.v1.is_variable_initialized instead.\n",
      "\n",
      "WARNING:tensorflow:From /usr/local/lib/python3.6/dist-packages/keras/backend/tensorflow_backend.py:223: The name tf.variables_initializer is deprecated. Please use tf.compat.v1.variables_initializer instead.\n",
      "\n",
      "WARNING:tensorflow:From /usr/local/lib/python3.6/dist-packages/keras/optimizers.py:793: The name tf.train.Optimizer is deprecated. Please use tf.compat.v1.train.Optimizer instead.\n",
      "\n",
      "WARNING:tensorflow:From /usr/local/lib/python3.6/dist-packages/keras/backend/tensorflow_backend.py:3576: The name tf.log is deprecated. Please use tf.math.log instead.\n",
      "\n",
      "WARNING:tensorflow:From /usr/local/lib/python3.6/dist-packages/tensorflow_core/python/ops/math_grad.py:1424: where (from tensorflow.python.ops.array_ops) is deprecated and will be removed in a future version.\n",
      "Instructions for updating:\n",
      "Use tf.where in 2.0, which has the same broadcast rule as np.where\n",
      "WARNING:tensorflow:From /usr/local/lib/python3.6/dist-packages/keras/backend/tensorflow_backend.py:1033: The name tf.assign_add is deprecated. Please use tf.compat.v1.assign_add instead.\n",
      "\n",
      "WARNING:tensorflow:From /usr/local/lib/python3.6/dist-packages/keras/backend/tensorflow_backend.py:1020: The name tf.assign is deprecated. Please use tf.compat.v1.assign instead.\n",
      "\n",
      "WARNING:tensorflow:From /usr/local/lib/python3.6/dist-packages/keras/backend/tensorflow_backend.py:2239: The name tf.image.resize_nearest_neighbor is deprecated. Please use tf.compat.v1.image.resize_nearest_neighbor instead.\n",
      "\n",
      "WARNING:tensorflow:From /usr/local/lib/python3.6/dist-packages/keras/backend/tensorflow_backend.py:66: The name tf.get_default_graph is deprecated. Please use tf.compat.v1.get_default_graph instead.\n",
      "\n",
      "WARNING:tensorflow:From /usr/local/lib/python3.6/dist-packages/keras/backend/tensorflow_backend.py:2041: The name tf.nn.fused_batch_norm is deprecated. Please use tf.compat.v1.nn.fused_batch_norm instead.\n",
      "\n",
      "WARNING:tensorflow:From /usr/local/lib/python3.6/dist-packages/keras/backend/tensorflow_backend.py:148: The name tf.placeholder_with_default is deprecated. Please use tf.compat.v1.placeholder_with_default instead.\n",
      "\n",
      "WARNING:tensorflow:From /usr/local/lib/python3.6/dist-packages/keras/backend/tensorflow_backend.py:3733: calling dropout (from tensorflow.python.ops.nn_ops) with keep_prob is deprecated and will be removed in a future version.\n",
      "Instructions for updating:\n",
      "Please use `rate` instead of `keep_prob`. Rate should be set to `rate = 1 - keep_prob`.\n",
      "WARNING:tensorflow:From /usr/local/lib/python3.6/dist-packages/keras/backend/tensorflow_backend.py:4271: The name tf.nn.avg_pool is deprecated. Please use tf.nn.avg_pool2d instead.\n",
      "\n"
     ]
    }
   ],
   "source": [
    "#Call Models\n",
    "cnn_model = load_model('/content/drive/My Drive/test_colab/cnn.h5')\n",
    "cae_model = load_model('/content/drive/My Drive/test_colab/cae.h5')\n",
    "densenet = load_model('/content/drive/My Drive/test_colab/densenet.h5')"
   ]
  },
  {
   "cell_type": "code",
   "execution_count": 7,
   "metadata": {
    "colab": {
     "base_uri": "https://localhost:8080/",
     "height": 649
    },
    "colab_type": "code",
    "id": "zYb2XL_XaPq1",
    "outputId": "d5d80caf-cc99-46e2-c8fb-f507d8377878"
   },
   "outputs": [
    {
     "name": "stdout",
     "output_type": "stream",
     "text": [
      "Model: \"model_4\"\n",
      "_________________________________________________________________\n",
      "Layer (type)                 Output Shape              Param #   \n",
      "=================================================================\n",
      "cae_0 (InputLayer)           (None, 14000)             0         \n",
      "_________________________________________________________________\n",
      "cae_1 (Reshape)              (None, 100, 140, 1)       0         \n",
      "_________________________________________________________________\n",
      "cae_2 (Conv2D)               (None, 100, 140, 32)      160       \n",
      "_________________________________________________________________\n",
      "cae_3 (MaxPooling2D)         (None, 50, 70, 32)        0         \n",
      "_________________________________________________________________\n",
      "cae_4 (Conv2D)               (None, 50, 70, 32)        4128      \n",
      "_________________________________________________________________\n",
      "cae_5 (MaxPooling2D)         (None, 25, 35, 32)        0         \n",
      "_________________________________________________________________\n",
      "cae_6 (Conv2D)               (None, 25, 35, 32)        4128      \n",
      "_________________________________________________________________\n",
      "cae_7 (UpSampling2D)         (None, 50, 70, 32)        0         \n",
      "_________________________________________________________________\n",
      "cae_8 (Conv2D)               (None, 50, 70, 32)        4128      \n",
      "_________________________________________________________________\n",
      "cae_9 (UpSampling2D)         (None, 100, 140, 32)      0         \n",
      "_________________________________________________________________\n",
      "cae_10 (Conv2D)              (None, 100, 140, 32)      4128      \n",
      "_________________________________________________________________\n",
      "cae_11 (Conv2D)              (None, 100, 140, 1)       33        \n",
      "_________________________________________________________________\n",
      "cae_12 (Flatten)             (None, 14000)             0         \n",
      "=================================================================\n",
      "Total params: 33,410\n",
      "Trainable params: 16,705\n",
      "Non-trainable params: 16,705\n",
      "_________________________________________________________________\n"
     ]
    },
    {
     "name": "stderr",
     "output_type": "stream",
     "text": [
      "/usr/local/lib/python3.6/dist-packages/keras/engine/training.py:493: UserWarning: Discrepancy between trainable weights and collected trainable weights, did you set `model.trainable` without calling `model.compile` after ?\n",
      "  'Discrepancy between trainable weights and collected trainable'\n"
     ]
    }
   ],
   "source": [
    "# Lock Weight\n",
    "for i, l in enumerate(cae_model.layers):\n",
    "    l.trainable = False\n",
    "    l.name = 'cae_'+str(i)\n",
    "cae_model.summary()"
   ]
  },
  {
   "cell_type": "code",
   "execution_count": null,
   "metadata": {
    "colab": {},
    "colab_type": "code",
    "id": "PSRmnMBCabAH"
   },
   "outputs": [],
   "source": [
    "# Test data Predict\n",
    "Y_test_hat_ours = densenet.predict(X_test)\n",
    "Y_test_hat_cnn = cnn_model.predict(X_test)"
   ]
  },
  {
   "cell_type": "code",
   "execution_count": 9,
   "metadata": {
    "colab": {
     "base_uri": "https://localhost:8080/",
     "height": 391
    },
    "colab_type": "code",
    "id": "qLmde9tiajyn",
    "outputId": "bb6f9a28-d95b-4707-a3e2-597ee198a682"
   },
   "outputs": [
    {
     "name": "stdout",
     "output_type": "stream",
     "text": [
      "[[13173   373]\n",
      " [  544  3910]]\n",
      "[[13226   320]\n",
      " [  662  3792]]\n",
      "              precision    recall  f1-score   support\n",
      "\n",
      "         0.0       0.96      0.97      0.97     13546\n",
      "         1.0       0.91      0.88      0.90      4454\n",
      "\n",
      "    accuracy                           0.95     18000\n",
      "   macro avg       0.94      0.93      0.93     18000\n",
      "weighted avg       0.95      0.95      0.95     18000\n",
      "\n",
      "              precision    recall  f1-score   support\n",
      "\n",
      "         0.0       0.95      0.98      0.96     13546\n",
      "         1.0       0.92      0.85      0.89      4454\n",
      "\n",
      "    accuracy                           0.95     18000\n",
      "   macro avg       0.94      0.91      0.92     18000\n",
      "weighted avg       0.94      0.95      0.94     18000\n",
      "\n"
     ]
    }
   ],
   "source": [
    "print(confusion_matrix(Y_test, np.argmax(Y_test_hat_ours, axis=1)))\n",
    "print(confusion_matrix(Y_test, np.argmax(Y_test_hat_cnn, axis=1)))\n",
    "print(classification_report(Y_test, np.argmax(Y_test_hat_ours, axis=1)))\n",
    "print(classification_report(Y_test, np.argmax(Y_test_hat_cnn, axis=1)))"
   ]
  },
  {
   "cell_type": "markdown",
   "metadata": {
    "colab": {},
    "colab_type": "code",
    "id": "0DY0awyeawfm"
   },
   "source": [
    "\n",
    "#### 실험 1. Zero-day attack에 대한 강건성 평가\n",
    "- 무작위로 생성되는 피싱 URL의 특성을 반영하기 위해 Input URL에 백색잡음을 추가하는 방법을 고려하였다.\n",
    "\n",
    "#### 실험 2. Input data imbalance issue 대응 평가\n",
    "- Test data의 피싱데이터 비율을 증가시키면서 performance 측정하였다."
   ]
  },
  {
   "cell_type": "code",
   "execution_count": null,
   "metadata": {
    "colab": {},
    "colab_type": "code",
    "id": "-DmUoZAJbb0O"
   },
   "outputs": [],
   "source": [
    "def imbalance_gen(ratio):\n",
    "  # X_test, Y_test 합치기\n",
    "  stacked = np.hstack((Y_test.reshape(18000, 1), X_test))\n",
    "\n",
    "  # 정상, 비정상 URL 분류\n",
    "  benigns = stacked[stacked[:, 0] == 0]\n",
    "  phishs = stacked[stacked[:, 0] == 1]\n",
    "\n",
    "  # 생성된 데이터가 들어갈 자리 만들기\n",
    "  X_gen = np.zeros((int(np.sum(Y_test)), X_test.shape[1]))\n",
    "  Y_gen = np.zeros((int(np.sum(Y_test)),))\n",
    "\n",
    "  # 정상개수, 비정상 url 개수\n",
    "  num_benign = int(round(np.sum(Y_test)* (1 - ratio)))\n",
    "  num_phish = int(np.sum(Y_test)) - num_benign\n",
    "\n",
    "  # 정상, 비정상 Index list\n",
    "  random_idxs_benign = np.arange(0, benigns.shape[0], 1).tolist()\n",
    "  random_idxs_phish = np.arange(0, phishs.shape[0], 1).tolist()\n",
    "\n",
    "  # 정상 url 고르기\n",
    "  for i in range(num_benign):\n",
    "    random_idx_benign = random.choice(random_idxs_benign)\n",
    "    X_gen[i, :] = benigns[random_idx_benign, 1:]\n",
    "    Y_gen[i] = benigns[random_idx_benign, 0]\n",
    "\n",
    "  # 비정상 url 고르기\n",
    "  for i in range(num_benign, num_benign + num_phish, 1):\n",
    "    random_idx_phish = random.choice(random_idxs_phish)\n",
    "    X_gen[i, :] = phishs[random_idx_phish, 1:]\n",
    "    Y_gen[i] = phishs[random_idx_phish, 0]\n",
    "  return X_gen, Y_gen"
   ]
  },
  {
   "cell_type": "code",
   "execution_count": null,
   "metadata": {
    "colab": {},
    "colab_type": "code",
    "id": "2LRkkqxkl-QI"
   },
   "outputs": [],
   "source": [
    "# 실험 1.Noise robustness test\n",
    "def noise_robustness(model1, model2, factor, strength):\n",
    "\n",
    "  # Our Model\n",
    "  recalls_ours = []\n",
    "  precisions_ours = []\n",
    "  accuracies_ours = []\n",
    "  fallouts_ours = []\n",
    "\n",
    "  # CNN Model\n",
    "  recalls_cnn = []\n",
    "  precisions_cnn = []\n",
    "  accuracies_cnn = []\n",
    "  fallouts_cnn = []\n",
    "\n",
    "  for str in strength:\n",
    "    noise = factor * np.random.normal(loc=0, scale=1 + str, size=(X_test.shape[0], X_test.shape[1]))\n",
    "\n",
    "    y_hat_ours = model1.predict(X_test + noise)\n",
    "    y_hat_cnn = model2.predict(X_test + noise)\n",
    "\n",
    "    conf_mat_ours = confusion_matrix(Y_test, np.argmax(y_hat_ours, axis=1))\n",
    "    conf_mat_cnn = confusion_matrix(Y_test, np.argmax(y_hat_cnn, axis=1))\n",
    "\n",
    "    recall_ours = conf_mat_ours[1,1]/ np.sum(conf_mat_ours[1,:])\n",
    "    precision_ours = conf_mat_ours[0,0]/ np.sum(conf_mat_ours[0,:])\n",
    "    accuracy_ours = (conf_mat_ours[0,0]+conf_mat_ours[1,1])/np.sum(conf_mat_ours)\n",
    "    fallout_ours = (conf_mat_ours[0,1])/np.sum(conf_mat_ours[0,:])\n",
    "    \n",
    "    recalls_ours.append(recall_ours)\n",
    "    precisions_ours.append(precision_ours)\n",
    "    accuracies_ours.append(accuracy_ours)\n",
    "    fallouts_ours.append(fallout_ours)\n",
    "\n",
    "    recall_cnn = conf_mat_cnn[1,1] / np.sum(conf_mat_cnn[1,:])\n",
    "    precision_cnn = conf_mat_cnn[0,0] / np.sum(conf_mat_cnn[0,:])\n",
    "    accuracy_cnn = (conf_mat_cnn[0,0]+conf_mat_cnn[1,1])/np.sum(conf_mat_cnn)\n",
    "    fallout_cnn = (conf_mat_cnn[0,1])/np.sum(conf_mat_cnn[0,:])\n",
    "\n",
    "    recalls_cnn.append(recall_cnn)\n",
    "    precisions_cnn.append(precision_cnn)\n",
    "    accuracies_cnn.append(accuracy_cnn)\n",
    "    fallouts_cnn.append(fallout_cnn)\n",
    "\n",
    "  return recalls_ours, precisions_ours, accuracies_ours, fallouts_ours, recalls_cnn, precisions_cnn, accuracies_cnn, fallouts_cnn\n",
    "    "
   ]
  },
  {
   "cell_type": "code",
   "execution_count": 13,
   "metadata": {
    "colab": {
     "base_uri": "https://localhost:8080/",
     "height": 51
    },
    "colab_type": "code",
    "id": "pHEmF1vJzvYq",
    "outputId": "29b9ccdb-5fd3-446a-b8a9-f8cb175ee087"
   },
   "outputs": [
    {
     "name": "stdout",
     "output_type": "stream",
     "text": [
      "CPU times: user 1min 38s, sys: 10.7 s, total: 1min 48s\n",
      "Wall time: 1min 57s\n"
     ]
    }
   ],
   "source": [
    "%%time\n",
    "recalls_ours ,precisions_ours,accuracies_ours,fallouts_ours, recalls_cnn, precisions_cnn, accuracies_cnn, fallouts_cnn = noise_robustness(densenet, cnn_model, 0.01, [0,0.05,0.1,0.15,0.2])\n"
   ]
  },
  {
   "cell_type": "markdown",
   "metadata": {
    "colab_type": "text",
    "id": "KQGKxnVpEV6q"
   },
   "source": [
    "##### Noise = factor(0.01) * N ($\\mu$=0, $\\sigma^2$+strength)"
   ]
  },
  {
   "cell_type": "code",
   "execution_count": 14,
   "metadata": {
    "colab": {
     "base_uri": "https://localhost:8080/",
     "height": 297
    },
    "colab_type": "code",
    "id": "WWBmXR1O6CUE",
    "outputId": "7996e498-3a11-455a-d8fe-472a632cb2a5"
   },
   "outputs": [
    {
     "data": {
      "text/plain": [
       "<matplotlib.legend.Legend at 0x7fc74c23f198>"
      ]
     },
     "execution_count": 14,
     "metadata": {
      "tags": []
     },
     "output_type": "execute_result"
    },
    {
     "data": {
      "image/png": "[encoded data removed]",
      "text/plain": [
       "<Figure size 432x288 with 1 Axes>"
      ]
     },
     "metadata": {
      "tags": []
     },
     "output_type": "display_data"
    }
   ],
   "source": [
    "# plt.plot(recalls_ours, label = 'Ours [recall]', marker = 'o')\n",
    "# plt.plot(recalls_cnn, label = 'CNN [recall]', marker = 's')\n",
    "plt.plot(accuracies_ours, label = 'Ours [acc]', marker = '*')\n",
    "plt.plot(accuracies_cnn, label = 'CNN [acc]', marker = '^')\n",
    "plt.xlabel('Noise Strength(std of white_noise)')\n",
    "plt.legend()"
   ]
  },
  {
   "cell_type": "code",
   "execution_count": null,
   "metadata": {
    "colab": {},
    "colab_type": "code",
    "id": "4sWcxPfjV_NJ"
   },
   "outputs": [],
   "source": [
    "# 실험 2. Zero day attack robustness test\n",
    "\n",
    "def imbalance_robustness(model1, model2, ratios):\n",
    "  #Our Results\n",
    "  recalls_ours=[]\n",
    "  precisions_ours=[]\n",
    "  accuracies_ours=[]\n",
    "  fallouts_ours=[]\n",
    "\n",
    "  #CNN Results\n",
    "  recalls_cnn=[]\n",
    "  precisions_cnn=[]\n",
    "  accuracies_cnn=[]\n",
    "  fallouts_cnn=[]\n",
    "\n",
    "  for ratio in ratios:\n",
    "    X_gen, Y_gen = imbalance_gen(ratio=ratio)\n",
    "\n",
    "    y_hat_ours = model1.predict(X_gen)\n",
    "    y_hat_cnn = model2.predict(X_gen)\n",
    "\n",
    "    conf_mat_ours = confusion_matrix(Y_gen, np.argmax(y_hat_ours, axis=1))\n",
    "    conf_mat_cnn = confusion_matrix(Y_gen, np.argmax(y_hat_cnn, axis=1))\n",
    "\n",
    "    recall_ours = conf_mat_ours[1,1]/np.sum(conf_mat_ours[1,:])\n",
    "    precision_ours = conf_mat_ours[0,0]/np.sum(conf_mat_ours[0,:])\n",
    "    accuracy_ours = (conf_mat_ours[0,0]+conf_mat_ours[1,1])/np.sum(conf_mat_ours)\n",
    "    fallout_ours = (conf_mat_ours[0,1])/np.sum(conf_mat_ours[0,:])\n",
    "\n",
    "    recalls_ours.append(recall_ours)\n",
    "    precisions_ours.append(precision_ours)\n",
    "    accuracies_ours.append(accuracy_ours)\n",
    "    fallouts_ours.append(fallout_ours)\n",
    "\n",
    "    recall_cnn = conf_mat_cnn[1,1]/np.sum(conf_mat_cnn[1,:])\n",
    "    precision_cnn = conf_mat_cnn[0,0]/np.sum(conf_mat_cnn[0,:])\n",
    "    accuracy_cnn = (conf_mat_cnn[0,0]+conf_mat_cnn[1,1])/np.sum(conf_mat_cnn)\n",
    "    fallout_cnn = (conf_mat_cnn[0,1])/np.sum(conf_mat_cnn[0,:])\n",
    "\n",
    "    recalls_cnn.append(recall_cnn)\n",
    "    precisions_cnn.append(precision_cnn)\n",
    "    accuracies_cnn.append(accuracy_cnn)\n",
    "    fallouts_cnn.append(fallout_cnn)\n",
    "\n",
    "  return recalls_ours, precisions_ours, accuracies_ours, fallouts_ours, recalls_cnn, precisions_cnn, accuracies_cnn, fallouts_cnn"
   ]
  },
  {
   "cell_type": "code",
   "execution_count": 18,
   "metadata": {
    "colab": {
     "base_uri": "https://localhost:8080/",
     "height": 51
    },
    "colab_type": "code",
    "id": "2DEUuuctX09p",
    "outputId": "0b32026f-e3d4-4195-e112-d95ca2957697"
   },
   "outputs": [
    {
     "name": "stdout",
     "output_type": "stream",
     "text": [
      "CPU times: user 32 s, sys: 2.97 s, total: 35 s\n",
      "Wall time: 38.6 s\n"
     ]
    }
   ],
   "source": [
    "%%time\n",
    "recalls_ours ,precisions_ours,accuracies_ours, fallouts_ours, recalls_cnn, precisions_cnn, accuracies_cnn, fallouts_cnn = imbalance_robustness(densenet, cnn_model, [0.1,0.2,0.3,0.4,0.5,0.6,0.7,0.8,0.9])"
   ]
  },
  {
   "cell_type": "code",
   "execution_count": 19,
   "metadata": {
    "colab": {
     "base_uri": "https://localhost:8080/",
     "height": 282
    },
    "colab_type": "code",
    "id": "Pi8vQHhkX3sn",
    "outputId": "1f0f51dc-3b18-4897-f15f-9dc4a305c183"
   },
   "outputs": [
    {
     "data": {
      "text/plain": [
       "<matplotlib.legend.Legend at 0x7fc6e2b68be0>"
      ]
     },
     "execution_count": 19,
     "metadata": {
      "tags": []
     },
     "output_type": "execute_result"
    },
    {
     "data": {
      "image/png": "[encoded data removed]",
      "text/plain": [
       "<Figure size 432x288 with 1 Axes>"
      ]
     },
     "metadata": {
      "tags": []
     },
     "output_type": "display_data"
    }
   ],
   "source": [
    "plt.plot([0.1,0.2,0.3,0.4,0.5,0.6,0.7,0.8,0.9],recalls_ours, label = 'Ours [acc]', marker = 'o')\n",
    "plt.plot([0.1,0.2,0.3,0.4,0.5,0.6,0.7,0.8,0.9],recalls_cnn, label = 'CNN [recall]', marker = 's')\n",
    "plt.plot([0.1,0.2,0.3,0.4,0.5,0.6,0.7,0.8,0.9],accuracies_ours, label = 'Ours [acc]', marker = '*')\n",
    "plt.plot([0.1,0.2,0.3,0.4,0.5,0.6,0.7,0.8,0.9],accuracies_cnn, label = 'CNN [acc]', marker = '^')\n",
    "plt.legend()"
   ]
  },
  {
   "cell_type": "markdown",
   "metadata": {
    "colab_type": "text",
    "id": "c6BRRsIEaUKm"
   },
   "source": [
    "#### References\n",
    "\n",
    "- Gao Huang, Zhuang Liu, Laurens van der Maaten, Kilian Q. Weinberger(2016). : Densely Connected Convolutional Networks.\n",
    "- Jonathan Masci, Ueli Meier, Dan Cire¸san, and J¨urgen Schmidhuber(2011). : Stacked Convolutional Auto-Encoders for Hierarchical Feature Extraction\n",
    "- Jaime Zabalza, Jinchang Ren, Jiangbin Zheng, Huimin Zhao, Chunmei Qing, Zhijing Yang,Stephen Marshall(2015). : Novel Segmented Stacked AutoEncoder for - Effective Dimensionality Reduction and Feature Extraction in Hyperspectral Imaging"
   ]
  }
 ],
 "metadata": {
  "accelerator": "GPU",
  "colab": {
   "machine_shape": "hm",
   "name": "Model-Evaluation.ipynb",
   "provenance": []
  },
  "kernelspec": {
   "display_name": "Python 3",
   "language": "python",
   "name": "python3"
  },
  "language_info": {
   "codemirror_mode": {
    "name": "ipython",
    "version": 3
   },
   "file_extension": ".py",
   "mimetype": "text/x-python",
   "name": "python",
   "nbconvert_exporter": "python",
   "pygments_lexer": "ipython3",
   "version": "3.7.0"
  }
 },
 "nbformat": 4,
 "nbformat_minor": 4
}
