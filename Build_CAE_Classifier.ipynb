{
  "nbformat": 4,
  "nbformat_minor": 0,
  "metadata": {
    "colab": {
      "name": "Build-CAE-Classifier.ipynb",
      "provenance": [],
      "collapsed_sections": [],
      "machine_shape": "hm"
    },
    "kernelspec": {
      "name": "python3",
      "display_name": "Python 3"
    },
    "accelerator": "GPU"
  },
  "cells": [
    {
      "cell_type": "markdown",
      "metadata": {
        "id": "O7Gp8EjpBxMA",
        "colab_type": "text"
      },
      "source": [
        "# 1. Bulid Convolution AutoEncoder(CAE) \n",
        "# 2. Thresholding rule learning classfication"
      ]
    },
    {
      "cell_type": "code",
      "metadata": {
        "id": "MB-5q5cWZ7u-",
        "colab_type": "code",
        "colab": {}
      },
      "source": [
        "#Copyright 2019, Seokjun Bu, Softcomputing LAB all rights reserved.\n",
        "import numpy as np\n",
        "import pandas as pd\n",
        "import matplotlib.pyplot as plt\n",
        "from sklearn.model_selection import train_test_split\n",
        "from tensorflow.keras.utils import to_categorical\n",
        "from tensorflow import keras\n",
        "from keras.layers import Input, Dense, Conv2D, MaxPooling2D, UpSampling2D, Reshape, Flatten, MaxPool2D, Dropout\n",
        "from keras.models import Model\n",
        "from keras import backend as K\n",
        "from keras.optimizers import Adam\n",
        "from keras.callbacks import EarlyStopping\n",
        "from keras.models import Model, load_model, Sequential"
      ],
      "execution_count": 0,
      "outputs": []
    },
    {
      "cell_type": "code",
      "metadata": {
        "id": "4Q9uMfZMaaeJ",
        "colab_type": "code",
        "colab": {
          "base_uri": "https://localhost:8080/",
          "height": 122
        },
        "outputId": "ec718d8f-5734-4d21-b2f1-345e0af88662"
      },
      "source": [
        "from google.colab import drive\n",
        "drive.mount('/content/drive')"
      ],
      "execution_count": 2,
      "outputs": [
        {
          "output_type": "stream",
          "text": [
            "Go to this URL in a browser: https://accounts.google.com/o/oauth2/auth?client_id=947318989803-6bn6qk8qdgf4n4g3pfee6491hc0brc4i.apps.googleusercontent.com&redirect_uri=urn%3aietf%3awg%3aoauth%3a2.0%3aoob&response_type=code&scope=email%20https%3a%2f%2fwww.googleapis.com%2fauth%2fdocs.test%20https%3a%2f%2fwww.googleapis.com%2fauth%2fdrive%20https%3a%2f%2fwww.googleapis.com%2fauth%2fdrive.photos.readonly%20https%3a%2f%2fwww.googleapis.com%2fauth%2fpeopleapi.readonly\n",
            "\n",
            "Enter your authorization code:\n",
            "··········\n",
            "Mounted at /content/drive\n"
          ],
          "name": "stdout"
        }
      ]
    },
    {
      "cell_type": "code",
      "metadata": {
        "id": "WHO0-GGz5myz",
        "colab_type": "code",
        "colab": {}
      },
      "source": [
        "# Handcrafted Functions\n",
        "def plot_history(model_input, mode='loss', title='Entropy'):\n",
        "    history = model_input.history\n",
        "    plt.plot(history.history[mode]), plt.plot(history.history['val_'+mode])\n",
        "    plt.title(title), plt.legend(['train', 'test'], loc='upper right')\n",
        "    plt.show()"
      ],
      "execution_count": 0,
      "outputs": []
    },
    {
      "cell_type": "code",
      "metadata": {
        "id": "bN04aEn5a5Pt",
        "colab_type": "code",
        "colab": {}
      },
      "source": [
        "data = np.load('/content/drive/My Drive/test_colab/dataset_2_char_cat_45000_15000_140.npy')"
      ],
      "execution_count": 0,
      "outputs": []
    },
    {
      "cell_type": "code",
      "metadata": {
        "id": "DBEa-pr8fgW9",
        "colab_type": "code",
        "colab": {
          "base_uri": "https://localhost:8080/",
          "height": 34
        },
        "outputId": "387e4d8a-1cfb-4ecf-cd33-0a168a38a321"
      },
      "source": [
        "data.shape"
      ],
      "execution_count": 4,
      "outputs": [
        {
          "output_type": "execute_result",
          "data": {
            "text/plain": [
              "(60000, 14001)"
            ]
          },
          "metadata": {
            "tags": []
          },
          "execution_count": 4
        }
      ]
    },
    {
      "cell_type": "code",
      "metadata": {
        "id": "9-kTBOScgCAQ",
        "colab_type": "code",
        "colab": {
          "base_uri": "https://localhost:8080/",
          "height": 51
        },
        "outputId": "704d6f30-5ad1-4552-bc24-122f407514b0"
      },
      "source": [
        "# Train, Test Split\n",
        "# Train : for CAE Learning + Detection Thresholding\n",
        "# Test : only for validation\n",
        "X, Y = data[:, 1:], data[:, 0]\n",
        "X_train, X_test, Y_train, Y_test = train_test_split(X, Y, train_size=0.7, shuffle=True, random_state=11)\n",
        "print(X_train.shape, Y_train.shape)\n",
        "print(X_test.shape, Y_test.shape)"
      ],
      "execution_count": 4,
      "outputs": [
        {
          "output_type": "stream",
          "text": [
            "(42000, 14000) (42000,)\n",
            "(18000, 14000) (18000,)\n"
          ],
          "name": "stdout"
        }
      ]
    },
    {
      "cell_type": "code",
      "metadata": {
        "id": "5N35qPeCbV7m",
        "colab_type": "code",
        "colab": {}
      },
      "source": [
        "Y_train_cat, Y_test_cat = to_categorical(Y_train), to_categorical(Y_test)"
      ],
      "execution_count": 0,
      "outputs": []
    },
    {
      "cell_type": "markdown",
      "metadata": {
        "id": "H59dg_n-B2-N",
        "colab_type": "text"
      },
      "source": [
        "## 1. Bulid Convolution AutoEncoder"
      ]
    },
    {
      "cell_type": "code",
      "metadata": {
        "id": "fwPuh6WCeW8o",
        "colab_type": "code",
        "colab": {}
      },
      "source": [
        "cae_input = Input((X_train.shape[1], ))  # adapt this if using `channels_first` image data format\n",
        "H = Reshape((100, 140, 1))(cae_input)\n",
        "\n",
        "# Encoded\n",
        "H = Conv2D(filters=32, kernel_size=(2, 2), padding='same', activation='relu')(H)\n",
        "H = MaxPooling2D((2,2))(H)\n",
        "H = Conv2D(filters=32, kernel_size=(2, 2), padding='same', activation='relu')(H)\n",
        "H = MaxPooling2D((2,2))(H)\n",
        "\n",
        "# Decoded\n",
        "\n",
        "H = Conv2D(filters=32, kernel_size=(2, 2), padding='same', activation='relu')(H)\n",
        "H = UpSampling2D((2, 2))(H)\n",
        "H = Conv2D(filters=32, kernel_size=(2, 2), padding='same', activation='relu')(H)\n",
        "H = UpSampling2D((2, 2))(H)\n",
        "H = Conv2D(filters=32, kernel_size=(2, 2), padding='same', activation='relu')(H)\n",
        "H = Conv2D(filters=1, kernel_size=(1, 1), padding='same', activation='relu')(H)\n",
        "\n",
        "cae_output = Flatten()(H)\n",
        "cae_model = Model(cae_input,cae_output)\n",
        "cae_model.summary()\n"
      ],
      "execution_count": 0,
      "outputs": []
    },
    {
      "cell_type": "code",
      "metadata": {
        "id": "6sDrbkWQitCj",
        "colab_type": "code",
        "colab": {}
      },
      "source": [
        "%%time\n",
        "adam = Adam(lr = 1e-04)\n",
        "cae_model.compile(loss='categorical_crossentropy', \n",
        "                  optimizer= adam, metrics=['accuracy'])"
      ],
      "execution_count": 0,
      "outputs": []
    },
    {
      "cell_type": "code",
      "metadata": {
        "id": "SKQfbShQlkQ5",
        "colab_type": "code",
        "colab": {}
      },
      "source": [
        "# cae_model.save('/content/drive/My Drive/test_colab/cnn.h5')"
      ],
      "execution_count": 0,
      "outputs": []
    },
    {
      "cell_type": "code",
      "metadata": {
        "id": "nN9KUFjMmyd3",
        "colab_type": "code",
        "colab": {
          "base_uri": "https://localhost:8080/",
          "height": 1000
        },
        "outputId": "86029ffd-e3e9-451d-f39d-5f851a4b05d2"
      },
      "source": [
        "cae_model = load_model('/content/drive/My Drive/test_colab/cae.h5')\n",
        "cae_model.summary()"
      ],
      "execution_count": 6,
      "outputs": [
        {
          "output_type": "stream",
          "text": [
            "WARNING:tensorflow:From /usr/local/lib/python3.6/dist-packages/keras/backend/tensorflow_backend.py:541: The name tf.placeholder is deprecated. Please use tf.compat.v1.placeholder instead.\n",
            "\n",
            "WARNING:tensorflow:From /usr/local/lib/python3.6/dist-packages/keras/backend/tensorflow_backend.py:4432: The name tf.random_uniform is deprecated. Please use tf.random.uniform instead.\n",
            "\n",
            "WARNING:tensorflow:From /usr/local/lib/python3.6/dist-packages/keras/backend/tensorflow_backend.py:4267: The name tf.nn.max_pool is deprecated. Please use tf.nn.max_pool2d instead.\n",
            "\n",
            "WARNING:tensorflow:From /usr/local/lib/python3.6/dist-packages/keras/backend/tensorflow_backend.py:2239: The name tf.image.resize_nearest_neighbor is deprecated. Please use tf.compat.v1.image.resize_nearest_neighbor instead.\n",
            "\n",
            "WARNING:tensorflow:From /usr/local/lib/python3.6/dist-packages/keras/backend/tensorflow_backend.py:190: The name tf.get_default_session is deprecated. Please use tf.compat.v1.get_default_session instead.\n",
            "\n",
            "WARNING:tensorflow:From /usr/local/lib/python3.6/dist-packages/keras/backend/tensorflow_backend.py:197: The name tf.ConfigProto is deprecated. Please use tf.compat.v1.ConfigProto instead.\n",
            "\n",
            "WARNING:tensorflow:From /usr/local/lib/python3.6/dist-packages/keras/backend/tensorflow_backend.py:203: The name tf.Session is deprecated. Please use tf.compat.v1.Session instead.\n",
            "\n",
            "WARNING:tensorflow:From /usr/local/lib/python3.6/dist-packages/keras/backend/tensorflow_backend.py:207: The name tf.global_variables is deprecated. Please use tf.compat.v1.global_variables instead.\n",
            "\n",
            "WARNING:tensorflow:From /usr/local/lib/python3.6/dist-packages/keras/backend/tensorflow_backend.py:216: The name tf.is_variable_initialized is deprecated. Please use tf.compat.v1.is_variable_initialized instead.\n",
            "\n",
            "WARNING:tensorflow:From /usr/local/lib/python3.6/dist-packages/keras/backend/tensorflow_backend.py:223: The name tf.variables_initializer is deprecated. Please use tf.compat.v1.variables_initializer instead.\n",
            "\n",
            "WARNING:tensorflow:From /usr/local/lib/python3.6/dist-packages/keras/optimizers.py:793: The name tf.train.Optimizer is deprecated. Please use tf.compat.v1.train.Optimizer instead.\n",
            "\n",
            "WARNING:tensorflow:From /usr/local/lib/python3.6/dist-packages/keras/backend/tensorflow_backend.py:1033: The name tf.assign_add is deprecated. Please use tf.compat.v1.assign_add instead.\n",
            "\n",
            "WARNING:tensorflow:From /usr/local/lib/python3.6/dist-packages/keras/backend/tensorflow_backend.py:1020: The name tf.assign is deprecated. Please use tf.compat.v1.assign instead.\n",
            "\n",
            "Model: \"model_4\"\n",
            "_________________________________________________________________\n",
            "Layer (type)                 Output Shape              Param #   \n",
            "=================================================================\n",
            "input_4 (InputLayer)         (None, 14000)             0         \n",
            "_________________________________________________________________\n",
            "reshape_4 (Reshape)          (None, 100, 140, 1)       0         \n",
            "_________________________________________________________________\n",
            "conv2d_19 (Conv2D)           (None, 100, 140, 32)      160       \n",
            "_________________________________________________________________\n",
            "max_pooling2d_7 (MaxPooling2 (None, 50, 70, 32)        0         \n",
            "_________________________________________________________________\n",
            "conv2d_20 (Conv2D)           (None, 50, 70, 32)        4128      \n",
            "_________________________________________________________________\n",
            "max_pooling2d_8 (MaxPooling2 (None, 25, 35, 32)        0         \n",
            "_________________________________________________________________\n",
            "conv2d_21 (Conv2D)           (None, 25, 35, 32)        4128      \n",
            "_________________________________________________________________\n",
            "up_sampling2d_7 (UpSampling2 (None, 50, 70, 32)        0         \n",
            "_________________________________________________________________\n",
            "conv2d_22 (Conv2D)           (None, 50, 70, 32)        4128      \n",
            "_________________________________________________________________\n",
            "up_sampling2d_8 (UpSampling2 (None, 100, 140, 32)      0         \n",
            "_________________________________________________________________\n",
            "conv2d_23 (Conv2D)           (None, 100, 140, 32)      4128      \n",
            "_________________________________________________________________\n",
            "conv2d_24 (Conv2D)           (None, 100, 140, 1)       33        \n",
            "_________________________________________________________________\n",
            "flatten_4 (Flatten)          (None, 14000)             0         \n",
            "=================================================================\n",
            "Total params: 16,705\n",
            "Trainable params: 16,705\n",
            "Non-trainable params: 0\n",
            "_________________________________________________________________\n"
          ],
          "name": "stdout"
        }
      ]
    },
    {
      "cell_type": "code",
      "metadata": {
        "id": "i9Y5S-_3eH1J",
        "colab_type": "code",
        "colab": {
          "base_uri": "https://localhost:8080/",
          "height": 649
        },
        "outputId": "accb593e-7cbe-4a8e-b290-54377f4964b0"
      },
      "source": [
        "# Lock Weight\n",
        "for i, l in enumerate(cae_model.layers):\n",
        "    l.trainable = False\n",
        "    l.name = 'cae_'+str(i)\n",
        "cae_model.summary()"
      ],
      "execution_count": 7,
      "outputs": [
        {
          "output_type": "stream",
          "text": [
            "Model: \"model_4\"\n",
            "_________________________________________________________________\n",
            "Layer (type)                 Output Shape              Param #   \n",
            "=================================================================\n",
            "cae_0 (InputLayer)           (None, 14000)             0         \n",
            "_________________________________________________________________\n",
            "cae_1 (Reshape)              (None, 100, 140, 1)       0         \n",
            "_________________________________________________________________\n",
            "cae_2 (Conv2D)               (None, 100, 140, 32)      160       \n",
            "_________________________________________________________________\n",
            "cae_3 (MaxPooling2D)         (None, 50, 70, 32)        0         \n",
            "_________________________________________________________________\n",
            "cae_4 (Conv2D)               (None, 50, 70, 32)        4128      \n",
            "_________________________________________________________________\n",
            "cae_5 (MaxPooling2D)         (None, 25, 35, 32)        0         \n",
            "_________________________________________________________________\n",
            "cae_6 (Conv2D)               (None, 25, 35, 32)        4128      \n",
            "_________________________________________________________________\n",
            "cae_7 (UpSampling2D)         (None, 50, 70, 32)        0         \n",
            "_________________________________________________________________\n",
            "cae_8 (Conv2D)               (None, 50, 70, 32)        4128      \n",
            "_________________________________________________________________\n",
            "cae_9 (UpSampling2D)         (None, 100, 140, 32)      0         \n",
            "_________________________________________________________________\n",
            "cae_10 (Conv2D)              (None, 100, 140, 32)      4128      \n",
            "_________________________________________________________________\n",
            "cae_11 (Conv2D)              (None, 100, 140, 1)       33        \n",
            "_________________________________________________________________\n",
            "cae_12 (Flatten)             (None, 14000)             0         \n",
            "=================================================================\n",
            "Total params: 33,410\n",
            "Trainable params: 16,705\n",
            "Non-trainable params: 16,705\n",
            "_________________________________________________________________\n"
          ],
          "name": "stdout"
        },
        {
          "output_type": "stream",
          "text": [
            "/usr/local/lib/python3.6/dist-packages/keras/engine/training.py:493: UserWarning: Discrepancy between trainable weights and collected trainable weights, did you set `model.trainable` without calling `model.compile` after ?\n",
            "  'Discrepancy between trainable weights and collected trainable'\n"
          ],
          "name": "stderr"
        }
      ]
    },
    {
      "cell_type": "code",
      "metadata": {
        "id": "uz7e1GmGqphE",
        "colab_type": "code",
        "colab": {
          "base_uri": "https://localhost:8080/",
          "height": 1000
        },
        "outputId": "a822c9c5-45f8-4460-bee0-7d2d35bf5de2"
      },
      "source": [
        "# Build Classifier Model\n",
        "classifier_input = cae_model.get_layer('cae_12').output\n",
        "H = Reshape((100, 140, 1))(classifier_input)\n",
        "H = Conv2D(filters=32, kernel_size=(2, 2), padding='same', activation='tanh')(H)\n",
        "H = MaxPool2D((2, 2))(H)\n",
        "H = Dropout(0.5)(H)\n",
        "H = Conv2D(filters=32, kernel_size=(2, 2), padding='same', activation='tanh')(H)\n",
        "H = MaxPool2D((2, 2))(H)\n",
        "H = Dropout(0.5)(H)\n",
        "H = Conv2D(filters=32, kernel_size=(2, 2), padding='same', activation='tanh')(H)\n",
        "H = MaxPool2D((2, 2))(H)\n",
        "H = Dropout(0.5)(H)\n",
        "H = Conv2D(filters=32, kernel_size=(2, 2), padding='same', activation='tanh')(H)\n",
        "H = MaxPool2D((2, 2))(H)\n",
        "H = Dropout(0.5)(H)\n",
        "H = Flatten()(H)\n",
        "H = Dense(1024, activation='tanh')(H)\n",
        "H = Dense(256, activation='tanh')(H)\n",
        "classifier_output = Dense(2, activation='softmax')(H)\n",
        "classifier_model = Model(cae_model.input, classifier_output)\n",
        "classifier_model.summary()\n",
        "classifier_model.compile(loss='categorical_crossentropy', optimizer='adam', metrics=['accuracy'])\n",
        "es = EarlyStopping(monitor='val_loss', mode='auto', patience=5)\n",
        "history_classifier_model = classifier_model.fit(X_train, Y_train_cat, validation_data=(X_test, Y_test_cat), epochs=1000, batch_size=500, verbose=2, callbacks=[es])\n",
        "plot_history(classifier_model, mode='loss', title='Categorical Crossentropy')\n",
        "Y_train_hat = classifier_model.predict(X_train)\n",
        "Y_test_hat = classifier_model.predict(X_test)\n",
        "classifier_model.save('/content/drive/My Drive/test_colab/classifier.h5')"
      ],
      "execution_count": 13,
      "outputs": [
        {
          "output_type": "stream",
          "text": [
            "Model: \"model_4\"\n",
            "_________________________________________________________________\n",
            "Layer (type)                 Output Shape              Param #   \n",
            "=================================================================\n",
            "cae_0 (InputLayer)           (None, 14000)             0         \n",
            "_________________________________________________________________\n",
            "cae_1 (Reshape)              (None, 100, 140, 1)       0         \n",
            "_________________________________________________________________\n",
            "cae_2 (Conv2D)               (None, 100, 140, 32)      160       \n",
            "_________________________________________________________________\n",
            "cae_3 (MaxPooling2D)         (None, 50, 70, 32)        0         \n",
            "_________________________________________________________________\n",
            "cae_4 (Conv2D)               (None, 50, 70, 32)        4128      \n",
            "_________________________________________________________________\n",
            "cae_5 (MaxPooling2D)         (None, 25, 35, 32)        0         \n",
            "_________________________________________________________________\n",
            "cae_6 (Conv2D)               (None, 25, 35, 32)        4128      \n",
            "_________________________________________________________________\n",
            "cae_7 (UpSampling2D)         (None, 50, 70, 32)        0         \n",
            "_________________________________________________________________\n",
            "cae_8 (Conv2D)               (None, 50, 70, 32)        4128      \n",
            "_________________________________________________________________\n",
            "cae_9 (UpSampling2D)         (None, 100, 140, 32)      0         \n",
            "_________________________________________________________________\n",
            "cae_10 (Conv2D)              (None, 100, 140, 32)      4128      \n",
            "_________________________________________________________________\n",
            "cae_11 (Conv2D)              (None, 100, 140, 1)       33        \n",
            "_________________________________________________________________\n",
            "cae_12 (Flatten)             (None, 14000)             0         \n",
            "_________________________________________________________________\n",
            "reshape_4 (Reshape)          (None, 100, 140, 1)       0         \n",
            "_________________________________________________________________\n",
            "conv2d_13 (Conv2D)           (None, 100, 140, 32)      160       \n",
            "_________________________________________________________________\n",
            "max_pooling2d_13 (MaxPooling (None, 50, 70, 32)        0         \n",
            "_________________________________________________________________\n",
            "dropout_13 (Dropout)         (None, 50, 70, 32)        0         \n",
            "_________________________________________________________________\n",
            "conv2d_14 (Conv2D)           (None, 50, 70, 32)        4128      \n",
            "_________________________________________________________________\n",
            "max_pooling2d_14 (MaxPooling (None, 25, 35, 32)        0         \n",
            "_________________________________________________________________\n",
            "dropout_14 (Dropout)         (None, 25, 35, 32)        0         \n",
            "_________________________________________________________________\n",
            "conv2d_15 (Conv2D)           (None, 25, 35, 32)        4128      \n",
            "_________________________________________________________________\n",
            "max_pooling2d_15 (MaxPooling (None, 12, 17, 32)        0         \n",
            "_________________________________________________________________\n",
            "dropout_15 (Dropout)         (None, 12, 17, 32)        0         \n",
            "_________________________________________________________________\n",
            "conv2d_16 (Conv2D)           (None, 12, 17, 32)        4128      \n",
            "_________________________________________________________________\n",
            "max_pooling2d_16 (MaxPooling (None, 6, 8, 32)          0         \n",
            "_________________________________________________________________\n",
            "dropout_16 (Dropout)         (None, 6, 8, 32)          0         \n",
            "_________________________________________________________________\n",
            "flatten_4 (Flatten)          (None, 1536)              0         \n",
            "_________________________________________________________________\n",
            "dense_10 (Dense)             (None, 1024)              1573888   \n",
            "_________________________________________________________________\n",
            "dense_11 (Dense)             (None, 256)               262400    \n",
            "_________________________________________________________________\n",
            "dense_12 (Dense)             (None, 2)                 514       \n",
            "=================================================================\n",
            "Total params: 1,866,051\n",
            "Trainable params: 1,849,346\n",
            "Non-trainable params: 16,705\n",
            "_________________________________________________________________\n",
            "Train on 42000 samples, validate on 18000 samples\n",
            "Epoch 1/1000\n",
            " - 21s - loss: 0.4043 - acc: 0.8313 - val_loss: 0.3694 - val_acc: 0.8129\n",
            "Epoch 2/1000\n",
            " - 20s - loss: 0.3193 - acc: 0.8636 - val_loss: 0.3654 - val_acc: 0.8252\n",
            "Epoch 3/1000\n",
            " - 20s - loss: 0.2909 - acc: 0.8772 - val_loss: 0.3545 - val_acc: 0.8512\n",
            "Epoch 4/1000\n",
            " - 20s - loss: 0.2691 - acc: 0.8885 - val_loss: 0.3027 - val_acc: 0.8818\n",
            "Epoch 5/1000\n",
            " - 20s - loss: 0.2539 - acc: 0.8958 - val_loss: 0.2699 - val_acc: 0.8896\n",
            "Epoch 6/1000\n",
            " - 20s - loss: 0.2455 - acc: 0.8985 - val_loss: 0.2316 - val_acc: 0.9086\n",
            "Epoch 7/1000\n",
            " - 20s - loss: 0.2371 - acc: 0.9027 - val_loss: 0.2173 - val_acc: 0.9107\n",
            "Epoch 8/1000\n",
            " - 20s - loss: 0.2320 - acc: 0.9041 - val_loss: 0.2237 - val_acc: 0.9070\n",
            "Epoch 9/1000\n",
            " - 20s - loss: 0.2248 - acc: 0.9077 - val_loss: 0.2119 - val_acc: 0.9138\n",
            "Epoch 10/1000\n",
            " - 20s - loss: 0.2213 - acc: 0.9093 - val_loss: 0.2265 - val_acc: 0.9075\n",
            "Epoch 11/1000\n",
            " - 20s - loss: 0.2144 - acc: 0.9127 - val_loss: 0.2088 - val_acc: 0.9078\n",
            "Epoch 12/1000\n",
            " - 20s - loss: 0.2141 - acc: 0.9108 - val_loss: 0.1990 - val_acc: 0.9211\n",
            "Epoch 13/1000\n",
            " - 20s - loss: 0.2123 - acc: 0.9135 - val_loss: 0.2015 - val_acc: 0.9172\n",
            "Epoch 14/1000\n",
            " - 20s - loss: 0.2085 - acc: 0.9148 - val_loss: 0.1943 - val_acc: 0.9201\n",
            "Epoch 15/1000\n",
            " - 20s - loss: 0.2078 - acc: 0.9150 - val_loss: 0.2028 - val_acc: 0.9217\n",
            "Epoch 16/1000\n",
            " - 20s - loss: 0.2058 - acc: 0.9153 - val_loss: 0.1973 - val_acc: 0.9193\n",
            "Epoch 17/1000\n",
            " - 20s - loss: 0.2005 - acc: 0.9179 - val_loss: 0.1826 - val_acc: 0.9254\n",
            "Epoch 18/1000\n",
            " - 20s - loss: 0.1989 - acc: 0.9191 - val_loss: 0.1720 - val_acc: 0.9332\n",
            "Epoch 19/1000\n",
            " - 20s - loss: 0.1973 - acc: 0.9213 - val_loss: 0.1717 - val_acc: 0.9329\n",
            "Epoch 20/1000\n",
            " - 20s - loss: 0.1953 - acc: 0.9207 - val_loss: 0.1825 - val_acc: 0.9244\n",
            "Epoch 21/1000\n",
            " - 20s - loss: 0.1928 - acc: 0.9221 - val_loss: 0.1802 - val_acc: 0.9262\n",
            "Epoch 22/1000\n",
            " - 20s - loss: 0.1925 - acc: 0.9234 - val_loss: 0.1757 - val_acc: 0.9281\n",
            "Epoch 23/1000\n",
            " - 20s - loss: 0.1911 - acc: 0.9237 - val_loss: 0.1687 - val_acc: 0.9323\n",
            "Epoch 24/1000\n",
            " - 20s - loss: 0.1890 - acc: 0.9243 - val_loss: 0.1652 - val_acc: 0.9347\n",
            "Epoch 25/1000\n",
            " - 20s - loss: 0.1887 - acc: 0.9248 - val_loss: 0.1623 - val_acc: 0.9352\n",
            "Epoch 26/1000\n",
            " - 20s - loss: 0.1856 - acc: 0.9261 - val_loss: 0.1630 - val_acc: 0.9359\n",
            "Epoch 27/1000\n",
            " - 20s - loss: 0.1842 - acc: 0.9255 - val_loss: 0.1632 - val_acc: 0.9366\n",
            "Epoch 28/1000\n",
            " - 20s - loss: 0.1828 - acc: 0.9275 - val_loss: 0.1779 - val_acc: 0.9268\n",
            "Epoch 29/1000\n",
            " - 20s - loss: 0.1848 - acc: 0.9274 - val_loss: 0.1571 - val_acc: 0.9382\n",
            "Epoch 30/1000\n",
            " - 20s - loss: 0.1825 - acc: 0.9271 - val_loss: 0.1576 - val_acc: 0.9390\n",
            "Epoch 31/1000\n",
            " - 20s - loss: 0.1826 - acc: 0.9277 - val_loss: 0.1789 - val_acc: 0.9275\n",
            "Epoch 32/1000\n",
            " - 20s - loss: 0.1796 - acc: 0.9293 - val_loss: 0.1591 - val_acc: 0.9374\n",
            "Epoch 33/1000\n",
            " - 20s - loss: 0.1772 - acc: 0.9289 - val_loss: 0.1631 - val_acc: 0.9369\n",
            "Epoch 34/1000\n",
            " - 20s - loss: 0.1758 - acc: 0.9312 - val_loss: 0.1598 - val_acc: 0.9368\n"
          ],
          "name": "stdout"
        },
        {
          "output_type": "display_data",
          "data": {
            "image/png": "[encoded data removed]",
            "text/plain": [
              "<Figure size 432x288 with 1 Axes>"
            ]
          },
          "metadata": {
            "tags": []
          }
        }
      ]
    }
  ]
}