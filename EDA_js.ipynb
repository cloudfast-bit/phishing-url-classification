{
 "cells": [
  {
   "cell_type": "markdown",
   "metadata": {},
   "source": [
    "# Exploratory Data Analysis\n",
    "### 1. Benign URL Data \n",
    "- Data Type\n",
    "- Data Shape\n",
    "\n",
    "### 2. Phishin URL Data\n",
    "- Data Type\n",
    "- Data Shape\n",
    "    \n",
    "# Feature Engneering (Phishing URL)\n",
    "- count number of dots \n",
    "- count number of delimeters(`;`, `_`, `?`, `=`, `&`)\n",
    "- ID addr check\n",
    "- hyphens `_`\n",
    "- check `@`\n",
    "- check `//`\n",
    "- check `/`\n",
    "- Return the filename extension from url, or `''`\n",
    "- count number of subdomain\n",
    "- urlparse\n",
    "\n",
    "# Feature Importance\n",
    "- Random Forest Model 이용"
   ]
  },
  {
   "cell_type": "markdown",
   "metadata": {},
   "source": [
    "-----------------------------------------------------\n",
    "### 1. Benign Data\n",
    "- Data Type\n",
    "- Data Shape"
   ]
  },
  {
   "cell_type": "code",
   "execution_count": 35,
   "metadata": {},
   "outputs": [],
   "source": [
    "import pandas as pd\n",
    "import numpy as np\n",
    "from urllib.parse import urlparse, parse_qs"
   ]
  },
  {
   "cell_type": "code",
   "execution_count": 5,
   "metadata": {
    "scrolled": true
   },
   "outputs": [
    {
     "data": {
      "text/html": [
       "<div>\n",
       "<style scoped>\n",
       "    .dataframe tbody tr th:only-of-type {\n",
       "        vertical-align: middle;\n",
       "    }\n",
       "\n",
       "    .dataframe tbody tr th {\n",
       "        vertical-align: top;\n",
       "    }\n",
       "\n",
       "    .dataframe thead th {\n",
       "        text-align: right;\n",
       "    }\n",
       "</style>\n",
       "<table border=\"1\" class=\"dataframe\">\n",
       "  <thead>\n",
       "    <tr style=\"text-align: right;\">\n",
       "      <th></th>\n",
       "      <th>1</th>\n",
       "      <th>http://www.liquidgeneration.com/</th>\n",
       "      <th>Adult</th>\n",
       "    </tr>\n",
       "  </thead>\n",
       "  <tbody>\n",
       "    <tr>\n",
       "      <td>1048570</td>\n",
       "      <td>1048572</td>\n",
       "      <td>https://www.nucleics.com/peaktrace/</td>\n",
       "      <td>Science</td>\n",
       "    </tr>\n",
       "    <tr>\n",
       "      <td>1048571</td>\n",
       "      <td>1048573</td>\n",
       "      <td>http://www.phenosystems.com</td>\n",
       "      <td>Science</td>\n",
       "    </tr>\n",
       "    <tr>\n",
       "      <td>1048572</td>\n",
       "      <td>1048574</td>\n",
       "      <td>http://www.thebiolog.com</td>\n",
       "      <td>Science</td>\n",
       "    </tr>\n",
       "    <tr>\n",
       "      <td>1048573</td>\n",
       "      <td>1048575</td>\n",
       "      <td>http://code.google.com/p/openbiomind/</td>\n",
       "      <td>Science</td>\n",
       "    </tr>\n",
       "    <tr>\n",
       "      <td>1048574</td>\n",
       "      <td>1048576</td>\n",
       "      <td>http://va-genex.sourceforge.net/</td>\n",
       "      <td>Science</td>\n",
       "    </tr>\n",
       "  </tbody>\n",
       "</table>\n",
       "</div>"
      ],
      "text/plain": [
       "               1       http://www.liquidgeneration.com/    Adult\n",
       "1048570  1048572    https://www.nucleics.com/peaktrace/  Science\n",
       "1048571  1048573            http://www.phenosystems.com  Science\n",
       "1048572  1048574               http://www.thebiolog.com  Science\n",
       "1048573  1048575  http://code.google.com/p/openbiomind/  Science\n",
       "1048574  1048576       http://va-genex.sourceforge.net/  Science"
      ]
     },
     "execution_count": 5,
     "metadata": {},
     "output_type": "execute_result"
    }
   ],
   "source": [
    "df_benign = pd.read_csv(\"../test/url_0.csv\")\n",
    "df_benign.tail()"
   ]
  },
  {
   "cell_type": "code",
   "execution_count": 7,
   "metadata": {},
   "outputs": [
    {
     "data": {
      "text/plain": [
       "['Adult',\n",
       " 'Arts',\n",
       " 'Business',\n",
       " 'Computers',\n",
       " 'Games',\n",
       " 'Health',\n",
       " 'Home',\n",
       " 'Kids',\n",
       " 'News',\n",
       " 'Recreation',\n",
       " 'Reference',\n",
       " 'Science']"
      ]
     },
     "execution_count": 7,
     "metadata": {},
     "output_type": "execute_result"
    }
   ],
   "source": [
    "list(df_benign['Adult'].unique())"
   ]
  },
  {
   "cell_type": "code",
   "execution_count": 8,
   "metadata": {},
   "outputs": [
    {
     "name": "stdout",
     "output_type": "stream",
     "text": [
      "<class 'pandas.core.frame.DataFrame'>\n",
      "RangeIndex: 1048575 entries, 0 to 1048574\n",
      "Data columns (total 3 columns):\n",
      "1                                   1048575 non-null int64\n",
      "http://www.liquidgeneration.com/    1048573 non-null object\n",
      "Adult                               1048575 non-null object\n",
      "dtypes: int64(1), object(2)\n",
      "memory usage: 24.0+ MB\n"
     ]
    }
   ],
   "source": [
    "df_benign.info()"
   ]
  },
  {
   "cell_type": "code",
   "execution_count": 11,
   "metadata": {},
   "outputs": [
    {
     "data": {
      "text/plain": [
       "(1048575, 3)"
      ]
     },
     "execution_count": 11,
     "metadata": {},
     "output_type": "execute_result"
    }
   ],
   "source": [
    "df_benign.shape"
   ]
  },
  {
   "cell_type": "code",
   "execution_count": 13,
   "metadata": {},
   "outputs": [
    {
     "data": {
      "text/html": [
       "<div>\n",
       "<style scoped>\n",
       "    .dataframe tbody tr th:only-of-type {\n",
       "        vertical-align: middle;\n",
       "    }\n",
       "\n",
       "    .dataframe tbody tr th {\n",
       "        vertical-align: top;\n",
       "    }\n",
       "\n",
       "    .dataframe thead th {\n",
       "        text-align: right;\n",
       "    }\n",
       "</style>\n",
       "<table border=\"1\" class=\"dataframe\">\n",
       "  <thead>\n",
       "    <tr style=\"text-align: right;\">\n",
       "      <th></th>\n",
       "      <th>phish_id</th>\n",
       "      <th>url</th>\n",
       "      <th>phish_detail_url</th>\n",
       "      <th>submission_time</th>\n",
       "      <th>verified</th>\n",
       "      <th>verification_time</th>\n",
       "      <th>online</th>\n",
       "      <th>target</th>\n",
       "    </tr>\n",
       "  </thead>\n",
       "  <tbody>\n",
       "    <tr>\n",
       "      <td>15256</td>\n",
       "      <td>1095720</td>\n",
       "      <td>https://sites.google.com/site/freehabbocoinsgb...</td>\n",
       "      <td>http://www.phishtank.com/phish_detail.php?phis...</td>\n",
       "      <td>2010-12-30T12:13:46+00:00</td>\n",
       "      <td>yes</td>\n",
       "      <td>2010-12-30T15:29:19+00:00</td>\n",
       "      <td>yes</td>\n",
       "      <td>Sulake Corporation</td>\n",
       "    </tr>\n",
       "    <tr>\n",
       "      <td>15257</td>\n",
       "      <td>876840</td>\n",
       "      <td>http://mundovirtualhabbo.blogspot.com/2009_01_...</td>\n",
       "      <td>http://www.phishtank.com/phish_detail.php?phis...</td>\n",
       "      <td>2009-12-03T10:40:26+00:00</td>\n",
       "      <td>yes</td>\n",
       "      <td>2009-12-03T23:56:01+00:00</td>\n",
       "      <td>yes</td>\n",
       "      <td>Sulake Corporation</td>\n",
       "    </tr>\n",
       "    <tr>\n",
       "      <td>15258</td>\n",
       "      <td>549159</td>\n",
       "      <td>http://aijcs.blogspot.com/2005/03/colourful-li...</td>\n",
       "      <td>http://www.phishtank.com/phish_detail.php?phis...</td>\n",
       "      <td>2008-11-07T15:04:00+00:00</td>\n",
       "      <td>yes</td>\n",
       "      <td>2011-09-03T19:15:33+00:00</td>\n",
       "      <td>yes</td>\n",
       "      <td>Other</td>\n",
       "    </tr>\n",
       "    <tr>\n",
       "      <td>15259</td>\n",
       "      <td>530149</td>\n",
       "      <td>http://tnet.at.ua/index/0-13</td>\n",
       "      <td>http://www.phishtank.com/phish_detail.php?phis...</td>\n",
       "      <td>2008-10-20T09:43:48+00:00</td>\n",
       "      <td>yes</td>\n",
       "      <td>2008-10-21T00:33:18+00:00</td>\n",
       "      <td>yes</td>\n",
       "      <td>Other</td>\n",
       "    </tr>\n",
       "    <tr>\n",
       "      <td>15260</td>\n",
       "      <td>524013</td>\n",
       "      <td>http://tudu-free.blogspot.com/2008/02/jogos-ja...</td>\n",
       "      <td>http://www.phishtank.com/phish_detail.php?phis...</td>\n",
       "      <td>2008-10-10T12:16:44+00:00</td>\n",
       "      <td>yes</td>\n",
       "      <td>2008-10-12T09:08:49+00:00</td>\n",
       "      <td>yes</td>\n",
       "      <td>Other</td>\n",
       "    </tr>\n",
       "  </tbody>\n",
       "</table>\n",
       "</div>"
      ],
      "text/plain": [
       "       phish_id                                                url  \\\n",
       "15256   1095720  https://sites.google.com/site/freehabbocoinsgb...   \n",
       "15257    876840  http://mundovirtualhabbo.blogspot.com/2009_01_...   \n",
       "15258    549159  http://aijcs.blogspot.com/2005/03/colourful-li...   \n",
       "15259    530149                       http://tnet.at.ua/index/0-13   \n",
       "15260    524013  http://tudu-free.blogspot.com/2008/02/jogos-ja...   \n",
       "\n",
       "                                        phish_detail_url  \\\n",
       "15256  http://www.phishtank.com/phish_detail.php?phis...   \n",
       "15257  http://www.phishtank.com/phish_detail.php?phis...   \n",
       "15258  http://www.phishtank.com/phish_detail.php?phis...   \n",
       "15259  http://www.phishtank.com/phish_detail.php?phis...   \n",
       "15260  http://www.phishtank.com/phish_detail.php?phis...   \n",
       "\n",
       "                 submission_time verified          verification_time online  \\\n",
       "15256  2010-12-30T12:13:46+00:00      yes  2010-12-30T15:29:19+00:00    yes   \n",
       "15257  2009-12-03T10:40:26+00:00      yes  2009-12-03T23:56:01+00:00    yes   \n",
       "15258  2008-11-07T15:04:00+00:00      yes  2011-09-03T19:15:33+00:00    yes   \n",
       "15259  2008-10-20T09:43:48+00:00      yes  2008-10-21T00:33:18+00:00    yes   \n",
       "15260  2008-10-10T12:16:44+00:00      yes  2008-10-12T09:08:49+00:00    yes   \n",
       "\n",
       "                   target  \n",
       "15256  Sulake Corporation  \n",
       "15257  Sulake Corporation  \n",
       "15258               Other  \n",
       "15259               Other  \n",
       "15260               Other  "
      ]
     },
     "execution_count": 13,
     "metadata": {},
     "output_type": "execute_result"
    }
   ],
   "source": [
    "df_pishing = pd.read_csv(\"../test/url_1.csv\")\n",
    "df_pishing.tail()"
   ]
  },
  {
   "cell_type": "code",
   "execution_count": 14,
   "metadata": {},
   "outputs": [
    {
     "name": "stdout",
     "output_type": "stream",
     "text": [
      "<class 'pandas.core.frame.DataFrame'>\n",
      "RangeIndex: 15261 entries, 0 to 15260\n",
      "Data columns (total 8 columns):\n",
      "phish_id             15261 non-null int64\n",
      "url                  15261 non-null object\n",
      "phish_detail_url     15261 non-null object\n",
      "submission_time      15261 non-null object\n",
      "verified             15261 non-null object\n",
      "verification_time    15261 non-null object\n",
      "online               15261 non-null object\n",
      "target               15261 non-null object\n",
      "dtypes: int64(1), object(7)\n",
      "memory usage: 953.9+ KB\n"
     ]
    }
   ],
   "source": [
    "df_pishing.info()"
   ]
  },
  {
   "cell_type": "code",
   "execution_count": 16,
   "metadata": {},
   "outputs": [
    {
     "data": {
      "text/plain": [
       "(15261, 8)"
      ]
     },
     "execution_count": 16,
     "metadata": {},
     "output_type": "execute_result"
    }
   ],
   "source": [
    "df_pishing.shape"
   ]
  },
  {
   "cell_type": "markdown",
   "metadata": {},
   "source": [
    "**benign url은 약 1000000개, phisihng url은 15000개로 데이터 불균형이 있다.**"
   ]
  },
  {
   "cell_type": "markdown",
   "metadata": {},
   "source": [
    "# Feature Engneering (Phishing URL)\n",
    "- count number of dots \n",
    "- count number of delimeters(';', '_', '?', '=', '&')\n",
    "- ID addr check\n",
    "- hyphens('_')\n",
    "- check '@'\n",
    "- check `//`\n",
    "- check `/`\n",
    "- Return the filename extension from url, or ''\n",
    "- count number of subdomain\n",
    "- urlparse"
   ]
  },
  {
   "cell_type": "code",
   "execution_count": 21,
   "metadata": {},
   "outputs": [],
   "source": [
    "#2018's top most suspicious TLD \n",
    "Suspicious_TLD_18=['country', 'stream', 'download', 'xin', 'gdn', 'racing', 'jetzt', 'win', 'bid', 'vip', 'ren',\\\n",
    "                   'kim', 'loan', 'mom', 'party', 'review', 'trade', 'data', 'wang', 'accountants']\n",
    "\n",
    "#2019's The 10 Most Abused TLD\n",
    "Suspicious_TLD_19 = ['gdn', 'ryukyu', 'work', 'fit', 'world', 'okinawa', 'life', 'desi',\\\n",
    "                     'colud', 'ooo']\n",
    "\n",
    "Suspicious_Domain=['luckytime.co.kr','mattfoll.eu.interia.pl','trafficholder.com','dl.baixaki.com.br','bembed.redtube.comr','tags.expo9.exponential.com','deepspacer.com','funad.co.kr','trafficconverter.biz']"
   ]
  },
  {
   "cell_type": "code",
   "execution_count": 22,
   "metadata": {
    "scrolled": true
   },
   "outputs": [],
   "source": [
    "# count number of dots\n",
    "def countdots(url):\n",
    "    return url.count('.')\n",
    "\n",
    "df_pishing['count_dots'] = df_pishing['url'].apply(lambda row: countdots(row))\n",
    "df_pishing['count_dots_detail_url'] = df_pishing['phish_detail_url'].apply(lambda row: countdots(row))"
   ]
  },
  {
   "cell_type": "code",
   "execution_count": 23,
   "metadata": {},
   "outputs": [],
   "source": [
    "# count number of delimeters\n",
    "def countdelim(url):\n",
    "    count = 0\n",
    "    delim = [';', '_', '?', '=', '&']\n",
    "    for each in url:\n",
    "        if each in delim:\n",
    "            count = count + 1\n",
    "    return count\n",
    "\n",
    "df_pishing['count_delim'] = df_pishing['url'].apply(lambda row: countdelim(row))\n",
    "df_pishing['count_delim_detail_url'] =df_pishing['phish_detail_url'].apply(lambda row: countdelim(row))"
   ]
  },
  {
   "cell_type": "code",
   "execution_count": 24,
   "metadata": {},
   "outputs": [],
   "source": [
    "# ID addr check\n",
    "import ipaddress as ip\n",
    "\n",
    "def isip(url):\n",
    "    try:\n",
    "        if ip.ip_adress(url):\n",
    "            return 1\n",
    "    except:\n",
    "        return 0\n",
    "df_pishing['ip_check'] = df_pishing['url'].apply(lambda row: isip(row))\n",
    "df_pishing['ip_check_detail_url'] = df_pishing['phish_detail_url'].apply(lambda row: isip(row))"
   ]
  },
  {
   "cell_type": "code",
   "execution_count": 25,
   "metadata": {},
   "outputs": [],
   "source": [
    "# hyphens\n",
    "def isPresentHyphen(url):\n",
    "    return url.count('-')\n",
    "df_pishing['count_hyphen'] = df_pishing['url'].apply(lambda row: isPresentHyphen(row))"
   ]
  },
  {
   "cell_type": "code",
   "execution_count": 27,
   "metadata": {},
   "outputs": [],
   "source": [
    "# check @\n",
    "def isPresentAt(url):\n",
    "    return url.count('@')\n",
    "df_pishing['count_at'] = df_pishing['url'].apply(lambda row: isPresentAt(row))\n",
    "df_pishing['count_at_detail_url'] = df_pishing['phish_detail_url'].apply(lambda row: isPresentAt(row))"
   ]
  },
  {
   "cell_type": "code",
   "execution_count": 28,
   "metadata": {},
   "outputs": [],
   "source": [
    "# check `//`\n",
    "def isPresentDSlash(url):\n",
    "    return url.count('//')\n",
    "df_pishing['count_DSlach'] = df_pishing['url'].apply(lambda row: isPresentDSlash(row))\n",
    "df_pishing['count_DSlach_detail_url'] = df_pishing['phish_detail_url'].apply(lambda row: isPresentDSlash(row))"
   ]
  },
  {
   "cell_type": "code",
   "execution_count": 29,
   "metadata": {},
   "outputs": [],
   "source": [
    "# check `/`\n",
    "def countSubDir(url):\n",
    "    return url.count('/')\n",
    "df_pishing['count_SubDir'] = df_pishing['url'].apply(lambda row: countSubDir(row))\n",
    "df_pishing['count_SubDir_detail_url'] = df_pishing['phish_detail_url'].apply(lambda row: countSubDir(row))"
   ]
  },
  {
   "cell_type": "code",
   "execution_count": 30,
   "metadata": {},
   "outputs": [],
   "source": [
    "# Return the filename extension from url, or ''\n",
    "import os\n",
    "def get_ext(url):\n",
    "    \n",
    "    root, ext = os.path.splitext(url)\n",
    "    return ext\n",
    "df_pishing['ext'] = df_pishing['url'].apply(lambda row: get_ext(row))\n",
    "df_pishing['ext_detail_url'] = df_pishing['phish_detail_url'].apply(lambda row: get_ext(row))"
   ]
  },
  {
   "cell_type": "code",
   "execution_count": 33,
   "metadata": {},
   "outputs": [],
   "source": [
    "# count number of subdomain\n",
    "def countSubDomain(subdomain):\n",
    "    if not subdomain:\n",
    "        return 0\n",
    "    else:\n",
    "        return len(subdomain.split('.'))\n",
    "    \n",
    "df_pishing['count_SubDomain'] = df_pishing['ext'].apply(lambda row: countSubDomain(row)) "
   ]
  },
  {
   "cell_type": "code",
   "execution_count": 36,
   "metadata": {},
   "outputs": [],
   "source": [
    "# urlparse\n",
    "df_pishing['temp'] = df_pishing['url'].apply(lambda url: list(urlparse(url)))\n",
    "columns = ['scheme', 'netloc', 'path', 'params', 'query', 'fragment']\n",
    "df_pishing[columns] = pd.DataFrame(df_pishing.temp.values.tolist(), index=df_pishing.index)\n",
    "df_pishing.drop('temp', axis=1, inplace=True)"
   ]
  },
  {
   "cell_type": "code",
   "execution_count": 38,
   "metadata": {},
   "outputs": [
    {
     "data": {
      "text/html": [
       "<div>\n",
       "<style scoped>\n",
       "    .dataframe tbody tr th:only-of-type {\n",
       "        vertical-align: middle;\n",
       "    }\n",
       "\n",
       "    .dataframe tbody tr th {\n",
       "        vertical-align: top;\n",
       "    }\n",
       "\n",
       "    .dataframe thead th {\n",
       "        text-align: right;\n",
       "    }\n",
       "</style>\n",
       "<table border=\"1\" class=\"dataframe\">\n",
       "  <thead>\n",
       "    <tr style=\"text-align: right;\">\n",
       "      <th></th>\n",
       "      <th>phish_id</th>\n",
       "      <th>url</th>\n",
       "      <th>phish_detail_url</th>\n",
       "      <th>submission_time</th>\n",
       "      <th>verified</th>\n",
       "      <th>verification_time</th>\n",
       "      <th>online</th>\n",
       "      <th>target</th>\n",
       "      <th>count_dots</th>\n",
       "      <th>count_dots_detail_url</th>\n",
       "      <th>...</th>\n",
       "      <th>count_SubDir_detail_url</th>\n",
       "      <th>ext</th>\n",
       "      <th>ext_detail_url</th>\n",
       "      <th>count_SubDomain</th>\n",
       "      <th>scheme</th>\n",
       "      <th>netloc</th>\n",
       "      <th>path</th>\n",
       "      <th>params</th>\n",
       "      <th>query</th>\n",
       "      <th>fragment</th>\n",
       "    </tr>\n",
       "  </thead>\n",
       "  <tbody>\n",
       "    <tr>\n",
       "      <td>15256</td>\n",
       "      <td>1095720</td>\n",
       "      <td>https://sites.google.com/site/freehabbocoinsgb...</td>\n",
       "      <td>http://www.phishtank.com/phish_detail.php?phis...</td>\n",
       "      <td>2010-12-30T12:13:46+00:00</td>\n",
       "      <td>yes</td>\n",
       "      <td>2010-12-30T15:29:19+00:00</td>\n",
       "      <td>yes</td>\n",
       "      <td>Sulake Corporation</td>\n",
       "      <td>2</td>\n",
       "      <td>3</td>\n",
       "      <td>...</td>\n",
       "      <td>3</td>\n",
       "      <td></td>\n",
       "      <td>.php?phish_id=1095720</td>\n",
       "      <td>0</td>\n",
       "      <td>https</td>\n",
       "      <td>sites.google.com</td>\n",
       "      <td>/site/freehabbocoinsgbbo00/</td>\n",
       "      <td></td>\n",
       "      <td></td>\n",
       "      <td></td>\n",
       "    </tr>\n",
       "    <tr>\n",
       "      <td>15257</td>\n",
       "      <td>876840</td>\n",
       "      <td>http://mundovirtualhabbo.blogspot.com/2009_01_...</td>\n",
       "      <td>http://www.phishtank.com/phish_detail.php?phis...</td>\n",
       "      <td>2009-12-03T10:40:26+00:00</td>\n",
       "      <td>yes</td>\n",
       "      <td>2009-12-03T23:56:01+00:00</td>\n",
       "      <td>yes</td>\n",
       "      <td>Sulake Corporation</td>\n",
       "      <td>3</td>\n",
       "      <td>3</td>\n",
       "      <td>...</td>\n",
       "      <td>3</td>\n",
       "      <td>.html</td>\n",
       "      <td>.php?phish_id=876840</td>\n",
       "      <td>2</td>\n",
       "      <td>http</td>\n",
       "      <td>mundovirtualhabbo.blogspot.com</td>\n",
       "      <td>/2009_01_01_archive.html</td>\n",
       "      <td></td>\n",
       "      <td></td>\n",
       "      <td></td>\n",
       "    </tr>\n",
       "    <tr>\n",
       "      <td>15258</td>\n",
       "      <td>549159</td>\n",
       "      <td>http://aijcs.blogspot.com/2005/03/colourful-li...</td>\n",
       "      <td>http://www.phishtank.com/phish_detail.php?phis...</td>\n",
       "      <td>2008-11-07T15:04:00+00:00</td>\n",
       "      <td>yes</td>\n",
       "      <td>2011-09-03T19:15:33+00:00</td>\n",
       "      <td>yes</td>\n",
       "      <td>Other</td>\n",
       "      <td>3</td>\n",
       "      <td>3</td>\n",
       "      <td>...</td>\n",
       "      <td>3</td>\n",
       "      <td>.html</td>\n",
       "      <td>.php?phish_id=549159</td>\n",
       "      <td>2</td>\n",
       "      <td>http</td>\n",
       "      <td>aijcs.blogspot.com</td>\n",
       "      <td>/2005/03/colourful-life-of-aij.html</td>\n",
       "      <td></td>\n",
       "      <td></td>\n",
       "      <td></td>\n",
       "    </tr>\n",
       "    <tr>\n",
       "      <td>15259</td>\n",
       "      <td>530149</td>\n",
       "      <td>http://tnet.at.ua/index/0-13</td>\n",
       "      <td>http://www.phishtank.com/phish_detail.php?phis...</td>\n",
       "      <td>2008-10-20T09:43:48+00:00</td>\n",
       "      <td>yes</td>\n",
       "      <td>2008-10-21T00:33:18+00:00</td>\n",
       "      <td>yes</td>\n",
       "      <td>Other</td>\n",
       "      <td>2</td>\n",
       "      <td>3</td>\n",
       "      <td>...</td>\n",
       "      <td>3</td>\n",
       "      <td></td>\n",
       "      <td>.php?phish_id=530149</td>\n",
       "      <td>0</td>\n",
       "      <td>http</td>\n",
       "      <td>tnet.at.ua</td>\n",
       "      <td>/index/0-13</td>\n",
       "      <td></td>\n",
       "      <td></td>\n",
       "      <td></td>\n",
       "    </tr>\n",
       "    <tr>\n",
       "      <td>15260</td>\n",
       "      <td>524013</td>\n",
       "      <td>http://tudu-free.blogspot.com/2008/02/jogos-ja...</td>\n",
       "      <td>http://www.phishtank.com/phish_detail.php?phis...</td>\n",
       "      <td>2008-10-10T12:16:44+00:00</td>\n",
       "      <td>yes</td>\n",
       "      <td>2008-10-12T09:08:49+00:00</td>\n",
       "      <td>yes</td>\n",
       "      <td>Other</td>\n",
       "      <td>3</td>\n",
       "      <td>3</td>\n",
       "      <td>...</td>\n",
       "      <td>3</td>\n",
       "      <td>.html#footer-wrap2</td>\n",
       "      <td>.php?phish_id=524013</td>\n",
       "      <td>2</td>\n",
       "      <td>http</td>\n",
       "      <td>tudu-free.blogspot.com</td>\n",
       "      <td>/2008/02/jogos-java-aplicativos.html</td>\n",
       "      <td></td>\n",
       "      <td></td>\n",
       "      <td>footer-wrap2</td>\n",
       "    </tr>\n",
       "  </tbody>\n",
       "</table>\n",
       "<p>5 rows × 30 columns</p>\n",
       "</div>"
      ],
      "text/plain": [
       "       phish_id                                                url  \\\n",
       "15256   1095720  https://sites.google.com/site/freehabbocoinsgb...   \n",
       "15257    876840  http://mundovirtualhabbo.blogspot.com/2009_01_...   \n",
       "15258    549159  http://aijcs.blogspot.com/2005/03/colourful-li...   \n",
       "15259    530149                       http://tnet.at.ua/index/0-13   \n",
       "15260    524013  http://tudu-free.blogspot.com/2008/02/jogos-ja...   \n",
       "\n",
       "                                        phish_detail_url  \\\n",
       "15256  http://www.phishtank.com/phish_detail.php?phis...   \n",
       "15257  http://www.phishtank.com/phish_detail.php?phis...   \n",
       "15258  http://www.phishtank.com/phish_detail.php?phis...   \n",
       "15259  http://www.phishtank.com/phish_detail.php?phis...   \n",
       "15260  http://www.phishtank.com/phish_detail.php?phis...   \n",
       "\n",
       "                 submission_time verified          verification_time online  \\\n",
       "15256  2010-12-30T12:13:46+00:00      yes  2010-12-30T15:29:19+00:00    yes   \n",
       "15257  2009-12-03T10:40:26+00:00      yes  2009-12-03T23:56:01+00:00    yes   \n",
       "15258  2008-11-07T15:04:00+00:00      yes  2011-09-03T19:15:33+00:00    yes   \n",
       "15259  2008-10-20T09:43:48+00:00      yes  2008-10-21T00:33:18+00:00    yes   \n",
       "15260  2008-10-10T12:16:44+00:00      yes  2008-10-12T09:08:49+00:00    yes   \n",
       "\n",
       "                   target  count_dots  count_dots_detail_url  ...  \\\n",
       "15256  Sulake Corporation           2                      3  ...   \n",
       "15257  Sulake Corporation           3                      3  ...   \n",
       "15258               Other           3                      3  ...   \n",
       "15259               Other           2                      3  ...   \n",
       "15260               Other           3                      3  ...   \n",
       "\n",
       "       count_SubDir_detail_url                 ext         ext_detail_url  \\\n",
       "15256                        3                      .php?phish_id=1095720   \n",
       "15257                        3               .html   .php?phish_id=876840   \n",
       "15258                        3               .html   .php?phish_id=549159   \n",
       "15259                        3                       .php?phish_id=530149   \n",
       "15260                        3  .html#footer-wrap2   .php?phish_id=524013   \n",
       "\n",
       "       count_SubDomain  scheme                          netloc  \\\n",
       "15256                0   https                sites.google.com   \n",
       "15257                2    http  mundovirtualhabbo.blogspot.com   \n",
       "15258                2    http              aijcs.blogspot.com   \n",
       "15259                0    http                      tnet.at.ua   \n",
       "15260                2    http          tudu-free.blogspot.com   \n",
       "\n",
       "                                       path  params  query      fragment  \n",
       "15256           /site/freehabbocoinsgbbo00/                               \n",
       "15257              /2009_01_01_archive.html                               \n",
       "15258   /2005/03/colourful-life-of-aij.html                               \n",
       "15259                           /index/0-13                               \n",
       "15260  /2008/02/jogos-java-aplicativos.html                 footer-wrap2  \n",
       "\n",
       "[5 rows x 30 columns]"
      ]
     },
     "execution_count": 38,
     "metadata": {},
     "output_type": "execute_result"
    }
   ],
   "source": [
    "df_pishing.tail()"
   ]
  },
  {
   "cell_type": "code",
   "execution_count": 48,
   "metadata": {},
   "outputs": [
    {
     "data": {
      "text/html": [
       "<div>\n",
       "<style scoped>\n",
       "    .dataframe tbody tr th:only-of-type {\n",
       "        vertical-align: middle;\n",
       "    }\n",
       "\n",
       "    .dataframe tbody tr th {\n",
       "        vertical-align: top;\n",
       "    }\n",
       "\n",
       "    .dataframe thead th {\n",
       "        text-align: right;\n",
       "    }\n",
       "</style>\n",
       "<table border=\"1\" class=\"dataframe\">\n",
       "  <thead>\n",
       "    <tr style=\"text-align: right;\">\n",
       "      <th></th>\n",
       "      <th>1</th>\n",
       "      <th>http://www.liquidgeneration.com/</th>\n",
       "      <th>Adult</th>\n",
       "    </tr>\n",
       "  </thead>\n",
       "  <tbody>\n",
       "    <tr>\n",
       "      <td>0</td>\n",
       "      <td>1039686</td>\n",
       "      <td>http://www.botany.hawaii.edu/faculty/carr/imag...</td>\n",
       "      <td>Science</td>\n",
       "    </tr>\n",
       "    <tr>\n",
       "      <td>1</td>\n",
       "      <td>294717</td>\n",
       "      <td>http://www.nationalbarn.com/</td>\n",
       "      <td>Business</td>\n",
       "    </tr>\n",
       "    <tr>\n",
       "      <td>2</td>\n",
       "      <td>1006910</td>\n",
       "      <td>http://www.jrjunction.com/estmim</td>\n",
       "      <td>Reference</td>\n",
       "    </tr>\n",
       "    <tr>\n",
       "      <td>3</td>\n",
       "      <td>494447</td>\n",
       "      <td>http://www.grafil.com/</td>\n",
       "      <td>Business</td>\n",
       "    </tr>\n",
       "    <tr>\n",
       "      <td>4</td>\n",
       "      <td>140173</td>\n",
       "      <td>http://www.cidyzoo.com/</td>\n",
       "      <td>Arts</td>\n",
       "    </tr>\n",
       "    <tr>\n",
       "      <td>...</td>\n",
       "      <td>...</td>\n",
       "      <td>...</td>\n",
       "      <td>...</td>\n",
       "    </tr>\n",
       "    <tr>\n",
       "      <td>44995</td>\n",
       "      <td>851648</td>\n",
       "      <td>http://fordcustoms.com/</td>\n",
       "      <td>Recreation</td>\n",
       "    </tr>\n",
       "    <tr>\n",
       "      <td>44996</td>\n",
       "      <td>396195</td>\n",
       "      <td>http://www.marturion.co.uk</td>\n",
       "      <td>Business</td>\n",
       "    </tr>\n",
       "    <tr>\n",
       "      <td>44997</td>\n",
       "      <td>975369</td>\n",
       "      <td>http://www.emporia.edu/csi/greek/ifchome.html</td>\n",
       "      <td>Reference</td>\n",
       "    </tr>\n",
       "    <tr>\n",
       "      <td>44998</td>\n",
       "      <td>223435</td>\n",
       "      <td>http://www.littlejoe.org</td>\n",
       "      <td>Arts</td>\n",
       "    </tr>\n",
       "    <tr>\n",
       "      <td>44999</td>\n",
       "      <td>921455</td>\n",
       "      <td>http://www.cotonbrie.com/</td>\n",
       "      <td>Recreation</td>\n",
       "    </tr>\n",
       "  </tbody>\n",
       "</table>\n",
       "<p>45000 rows × 3 columns</p>\n",
       "</div>"
      ],
      "text/plain": [
       "             1                   http://www.liquidgeneration.com/       Adult\n",
       "0      1039686  http://www.botany.hawaii.edu/faculty/carr/imag...     Science\n",
       "1       294717                       http://www.nationalbarn.com/    Business\n",
       "2      1006910                   http://www.jrjunction.com/estmim   Reference\n",
       "3       494447                             http://www.grafil.com/    Business\n",
       "4       140173                            http://www.cidyzoo.com/        Arts\n",
       "...        ...                                                ...         ...\n",
       "44995   851648                            http://fordcustoms.com/  Recreation\n",
       "44996   396195                         http://www.marturion.co.uk    Business\n",
       "44997   975369      http://www.emporia.edu/csi/greek/ifchome.html   Reference\n",
       "44998   223435                           http://www.littlejoe.org        Arts\n",
       "44999   921455                          http://www.cotonbrie.com/  Recreation\n",
       "\n",
       "[45000 rows x 3 columns]"
      ]
     },
     "execution_count": 48,
     "metadata": {},
     "output_type": "execute_result"
    }
   ],
   "source": [
    "from sklearn.utils import shuffle\n",
    "df = shuffle(df_benign)\n",
    "df_0 = df[:45000].reset_index(drop=True)\n",
    "df_0"
   ]
  },
  {
   "cell_type": "code",
   "execution_count": null,
   "metadata": {},
   "outputs": [],
   "source": []
  },
  {
   "cell_type": "code",
   "execution_count": null,
   "metadata": {},
   "outputs": [],
   "source": []
  },
  {
   "cell_type": "code",
   "execution_count": null,
   "metadata": {},
   "outputs": [],
   "source": []
  },
  {
   "cell_type": "code",
   "execution_count": null,
   "metadata": {},
   "outputs": [],
   "source": []
  },
  {
   "cell_type": "code",
   "execution_count": null,
   "metadata": {},
   "outputs": [],
   "source": []
  }
 ],
 "metadata": {
  "kernelspec": {
   "display_name": "Python 3",
   "language": "python",
   "name": "python3"
  },
  "language_info": {
   "codemirror_mode": {
    "name": "ipython",
    "version": 3
   },
   "file_extension": ".py",
   "mimetype": "text/x-python",
   "name": "python",
   "nbconvert_exporter": "python",
   "pygments_lexer": "ipython3",
   "version": "3.7.0"
  }
 },
 "nbformat": 4,
 "nbformat_minor": 4
}
