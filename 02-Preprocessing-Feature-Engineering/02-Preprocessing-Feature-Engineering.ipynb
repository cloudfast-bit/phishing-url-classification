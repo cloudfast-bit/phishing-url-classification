{
 "cells": [
  {
   "cell_type": "markdown",
   "metadata": {},
   "source": [
    "# Preprocessing & Feature Engineering"
   ]
  },
  {
   "cell_type": "markdown",
   "metadata": {},
   "source": [
    "### 1. Preprocessing : Character-to-vector Embedding\n",
    "- Sequence of Characters\n",
    "- Embedding Layer\n",
    "\n",
    "### 2. Feature Engineering \n",
    "- Syntactics Extraction_Step01: Character-level Unicode Method\n",
    "- Syntactics Extraction_Step02: Character-level One-hot Encoding"
   ]
  },
  {
   "cell_type": "code",
   "execution_count": 1,
   "metadata": {},
   "outputs": [],
   "source": [
    "#Copyright 2019, Seokjun Bu, Softcomputing LAB all rights reserved.\n",
    "%matplotlib inline\n",
    "import pandas as pd\n",
    "import numpy as np"
   ]
  },
  {
   "cell_type": "code",
   "execution_count": 2,
   "metadata": {},
   "outputs": [],
   "source": [
    "n_neutral, n_phishing = 45000, 15000\n",
    "n_max_char = 100\n",
    "\n",
    "# skiprows: 행 건너뛰기, header=None: 칼럼이름이 없다\n",
    "dataset_neutral = pd.read_csv('../input/url_0.csv', header=None, skiprows=0).sample(n=n_neutral, random_state=11)\n",
    "dataset_neutral = dataset_neutral[1].values\n",
    "\n",
    "dataset_phishing = pd.read_csv('../input/url_1.csv', header=None, skiprows=0).sample(n=n_phishing, random_state=11)\n",
    "dataset_phishing = dataset_phishing[1].values"
   ]
  },
  {
   "cell_type": "code",
   "execution_count": 3,
   "metadata": {},
   "outputs": [
    {
     "data": {
      "text/plain": [
       "((45000,), (15000,))"
      ]
     },
     "execution_count": 3,
     "metadata": {},
     "output_type": "execute_result"
    }
   ],
   "source": [
    "dataset_neutral.shape, dataset_phishing.shape"
   ]
  },
  {
   "cell_type": "markdown",
   "metadata": {},
   "source": [
    "### 1. Preprocessing\n",
    "- Sequence of Characters\n",
    "- Embedding Layer"
   ]
  },
  {
   "cell_type": "code",
   "execution_count": 4,
   "metadata": {},
   "outputs": [
    {
     "name": "stdout",
     "output_type": "stream",
     "text": [
      "(14, 35.8264, 441)\n",
      "(12, 75.73886666666667, 4096)\n"
     ]
    }
   ],
   "source": [
    "def length_info(input_str_np):\n",
    "    min_length, avg_length, max_length = 999, 0, 0\n",
    "    for r in range(input_str_np.shape[0]):\n",
    "        length_buffer = len(input_str_np[r])\n",
    "        if length_buffer > max_length:\n",
    "            max_length = length_buffer\n",
    "        if length_buffer < min_length:\n",
    "            min_length = length_buffer\n",
    "        avg_length += length_buffer\n",
    "    avg_length /= input_str_np.shape[0]\n",
    "    return (min_length, avg_length, max_length)\n",
    "print(length_info(dataset_neutral))\n",
    "print(length_info(dataset_phishing))    "
   ]
  },
  {
   "cell_type": "markdown",
   "metadata": {},
   "source": [
    "#### Phising url의 길이가 Benign url 보다 평균 길이가 약 2배 더 길다."
   ]
  },
  {
   "cell_type": "code",
   "execution_count": 5,
   "metadata": {},
   "outputs": [
    {
     "name": "stderr",
     "output_type": "stream",
     "text": [
      "IOPub data rate exceeded.\n",
      "The notebook server will temporarily stop sending output\n",
      "to the client in order to avoid crashing it.\n",
      "To change this limit, set the config variable\n",
      "`--NotebookApp.iopub_data_rate_limit`.\n",
      "\n",
      "Current values:\n",
      "NotebookApp.iopub_data_rate_limit=1000000.0 (bytes/sec)\n",
      "NotebookApp.rate_limit_window=3.0 (secs)\n",
      "\n"
     ]
    },
    {
     "name": "stdout",
     "output_type": "stream",
     "text": [
      "[['0' 'http://www.meigaoyi.com']\n",
      " ['0'\n",
      "  'http://www.cybertruffle.org.uk/vinales/eng/schefflera_morototoni.htm']\n",
      " ['0' 'http://prague.tv/funny-pictures-archive/']\n",
      " ...\n",
      " ['1'\n",
      "  'http://www.auto-ecole-rennes.com/wp-includes/Text/Diff/83b3926efe21b0905f3eddd62a07bbeb/1/']\n",
      " ['1'\n",
      "  'http://coolestspotontheweb.com/wp-content/plugins/ubh/agrement/a78b30fdd6908e5aa971670752a62dfa/customer_center/customer-IDPP00C572/myaccount/signin/']\n",
      " ['1'\n",
      "  'http://www.niagamall.com/wp-includes/widgets/bankingofamerica.com/update.html']] (60000, 2)\n"
     ]
    }
   ],
   "source": [
    "dataset_string = []\n",
    "for r in range(dataset_neutral.shape[0]):\n",
    "    row_buffer = []\n",
    "    row_buffer.append(0)\n",
    "    row_buffer.append(dataset_neutral[r])\n",
    "    dataset_string.append(row_buffer)\n",
    "for r in range(dataset_phishing.shape[0]):\n",
    "    row_buffer = []\n",
    "    row_buffer.append(1)\n",
    "    row_buffer.append(dataset_phishing[r])\n",
    "    dataset_string.append(row_buffer)\n",
    "    \n",
    "print(dataset_string)\n",
    "dataset_string = np.array(dataset_string)\n",
    "print(dataset_string, dataset_string.shape)"
   ]
  },
  {
   "cell_type": "code",
   "execution_count": 7,
   "metadata": {},
   "outputs": [],
   "source": [
    "# np.save('dataset_0_string_45000_15000', dataset_string)"
   ]
  },
  {
   "cell_type": "markdown",
   "metadata": {},
   "source": [
    "### 2. Feature Engineering\n",
    "- Syntactics Extraction_Step01: Character-level Unicode Method\n",
    "- Syntactics Extraction_Step02: Character-level One-hot Encoding"
   ]
  },
  {
   "cell_type": "code",
   "execution_count": 6,
   "metadata": {},
   "outputs": [
    {
     "name": "stdout",
     "output_type": "stream",
     "text": [
      "[[  0. 104. 116. ...   0.   0.   0.]\n",
      " [  0. 104. 116. ...   0.   0.   0.]\n",
      " [  0. 104. 116. ...   0.   0.   0.]\n",
      " ...\n",
      " [  1. 104. 116. ...   0.   0.   0.]\n",
      " [  1. 104. 116. ... 117. 115. 116.]\n",
      " [  1. 104. 116. ...   0.   0.   0.]]\n"
     ]
    }
   ],
   "source": [
    "###############################################################\n",
    "# Syntactics Extraction_Step01: Character-level Unicode Method #\n",
    "###############################################################\n",
    "\n",
    "dataset_np = np.zeros((n_neutral+n_phishing, n_max_char+1))\n",
    "for r in range(dataset_neutral.shape[0]):\n",
    "    dataset_np[r, 0] = 0\n",
    "    length_buffer = len(dataset_neutral[r])\n",
    "    for c in range(n_max_char):\n",
    "        if c < length_buffer:\n",
    "            dataset_np[r, c+1] = ord(dataset_neutral[r][c])\n",
    "        else:\n",
    "            break\n",
    "for r in range(dataset_phishing.shape[0]):\n",
    "    dataset_np[r+dataset_neutral.shape[0], 0] = 1\n",
    "    length_buffer = len(dataset_phishing[r])\n",
    "    for c in range(n_max_char):\n",
    "        if c < length_buffer:\n",
    "            dataset_np[r + dataset_neutral.shape[0], c+1] = ord(dataset_phishing[r][c])\n",
    "        else:\n",
    "            break\n",
    "print(dataset_np)            "
   ]
  },
  {
   "cell_type": "code",
   "execution_count": 9,
   "metadata": {},
   "outputs": [],
   "source": [
    "# np.save('dataset_1_char_45000_15000', dataset_np)"
   ]
  },
  {
   "cell_type": "code",
   "execution_count": 10,
   "metadata": {},
   "outputs": [
    {
     "name": "stdout",
     "output_type": "stream",
     "text": [
      "0.0\n"
     ]
    },
    {
     "data": {
      "image/png": "[encoded data removed]",
      "text/plain": [
       "<Figure size 432x288 with 1 Axes>"
      ]
     },
     "metadata": {
      "needs_background": "light"
     },
     "output_type": "display_data"
    },
    {
     "name": "stdout",
     "output_type": "stream",
     "text": [
      "0.0\n"
     ]
    },
    {
     "data": {
      "image/png": "[encoded data removed]",
      "text/plain": [
       "<Figure size 432x288 with 1 Axes>"
      ]
     },
     "metadata": {
      "needs_background": "light"
     },
     "output_type": "display_data"
    },
    {
     "name": "stdout",
     "output_type": "stream",
     "text": [
      "1.0\n"
     ]
    },
    {
     "data": {
      "image/png": "[encoded data removed]",
      "text/plain": [
       "<Figure size 432x288 with 1 Axes>"
      ]
     },
     "metadata": {
      "needs_background": "light"
     },
     "output_type": "display_data"
    }
   ],
   "source": [
    "# Visualize char samples\n",
    "n_v_sample = 3\n",
    "rand_idx = np.random.randint(0, dataset_np.shape[0], n_v_sample)\n",
    "for r in range(rand_idx.shape[0]):\n",
    "    print(dataset_np[rand_idx[r], 0])\n",
    "    plt.plot(dataset_np[rand_idx[r]])\n",
    "    plt.show()"
   ]
  },
  {
   "cell_type": "code",
   "execution_count": 7,
   "metadata": {
    "collapsed": true,
    "jupyter": {
     "outputs_hidden": true
    }
   },
   "outputs": [
    {
     "name": "stdout",
     "output_type": "stream",
     "text": [
      "[    0    32    33    35    36    37    38    39    40    41    42    43\n",
      "    44    45    46    47    48    49    50    51    52    53    54    55\n",
      "    56    57    58    59    61    63    64    65    66    67    68    69\n",
      "    70    71    72    73    74    75    76    77    78    79    80    81\n",
      "    82    83    84    85    86    87    88    89    90    91    93    94\n",
      "    95    96    97    98    99   100   101   102   103   104   105   106\n",
      "   107   108   109   110   111   112   113   114   115   116   117   118\n",
      "   119   120   121   122   123   124   125   126   128   130   131   134\n",
      "   146   154   162   175   189   191   194   195   198   226   239   402\n",
      "  1040  1045  1048  1050  1053  1054  1058  1072  1080  1085  1089  1090\n",
      "  1103  4352  4361  4363  4453  4455  4461  4469  8218 20351 29992 45828\n",
      " 46300 47112 48260 48296 48307 49828 52964     1] 140\n",
      "0\n",
      "1000\n",
      "2000\n",
      "3000\n",
      "4000\n",
      "5000\n",
      "6000\n",
      "7000\n",
      "8000\n",
      "9000\n",
      "10000\n",
      "11000\n",
      "12000\n",
      "13000\n",
      "14000\n",
      "15000\n",
      "16000\n",
      "17000\n",
      "18000\n",
      "19000\n",
      "20000\n",
      "21000\n",
      "22000\n",
      "23000\n",
      "24000\n",
      "25000\n",
      "26000\n",
      "27000\n",
      "28000\n",
      "29000\n",
      "30000\n",
      "31000\n",
      "32000\n",
      "33000\n",
      "34000\n",
      "35000\n",
      "36000\n",
      "37000\n",
      "38000\n",
      "39000\n",
      "40000\n",
      "41000\n",
      "42000\n",
      "43000\n",
      "44000\n",
      "45000\n",
      "46000\n",
      "47000\n",
      "48000\n",
      "49000\n",
      "50000\n",
      "51000\n",
      "52000\n",
      "53000\n",
      "54000\n",
      "55000\n",
      "56000\n",
      "57000\n",
      "58000\n",
      "59000\n"
     ]
    }
   ],
   "source": [
    "#################################################################\n",
    "# Syntactics Extraction_Step02: Character-level One-hot Encoding #\n",
    "#################################################################\n",
    "\n",
    "dataset_char_X = dataset_np[:, 1:]\n",
    "unique_char_list = np.unique(dataset_char_X).astype(int)\n",
    "unique_char_list = np.append(unique_char_list, [1])\n",
    "n_char= unique_char_list.shape[0]\n",
    "print(unique_char_list, n_char)\n",
    "dataset_char_cat_X = np.zeros((dataset_neutral.shape[0]+dataset_phishing.shape[0], dataset_char_X.shape[1], n_char))\n",
    "for r in range(60000):\n",
    "    for c in range(dataset_char_cat_X.shape[1]):\n",
    "        dataset_char_cat_X[r, c, [np.argwhere(unique_char_list==dataset_char_X[r, c])[0][0]]] = 1\n",
    "    if (r % 1000) == 0 :\n",
    "        print(r)"
   ]
  },
  {
   "cell_type": "code",
   "execution_count": 8,
   "metadata": {},
   "outputs": [],
   "source": [
    "# Concatenate with Y, Flatten\n",
    "dataset_char_cat_flatten = np.zeros((dataset_neutral.shape[0]+dataset_phishing.shape[0], 1+dataset_char_X.shape[1]*n_char))\n",
    "for r in range(dataset_neutral.shape[0]+dataset_phishing.shape[0]):\n",
    "    dataset_char_cat_flatten[r, 0] = dataset_np[r, 0]\n",
    "    dataset_char_cat_flatten[r, 1:] = dataset_char_cat_X[r].flatten()  "
   ]
  },
  {
   "cell_type": "code",
   "execution_count": 17,
   "metadata": {},
   "outputs": [
    {
     "name": "stdout",
     "output_type": "stream",
     "text": [
      "140\n",
      "0.0\n"
     ]
    },
    {
     "data": {
      "image/png": "[encoded data removed]",
      "text/plain": [
       "<Figure size 432x288 with 1 Axes>"
      ]
     },
     "metadata": {
      "needs_background": "light"
     },
     "output_type": "display_data"
    },
    {
     "name": "stdout",
     "output_type": "stream",
     "text": [
      "1.0\n"
     ]
    },
    {
     "data": {
      "image/png": "[encoded data removed]",
      "text/plain": [
       "<Figure size 432x288 with 1 Axes>"
      ]
     },
     "metadata": {
      "needs_background": "light"
     },
     "output_type": "display_data"
    },
    {
     "name": "stdout",
     "output_type": "stream",
     "text": [
      "0.0\n"
     ]
    },
    {
     "data": {
      "image/png": "[encoded data removed]",
      "text/plain": [
       "<Figure size 432x288 with 1 Axes>"
      ]
     },
     "metadata": {
      "needs_background": "light"
     },
     "output_type": "display_data"
    }
   ],
   "source": [
    "# Visualize Char-cat samples\n",
    "print(n_char)\n",
    "n_v_sample = 3\n",
    "rand_idx = np.random.randint(0, dataset_neutral.shape[0]+dataset_phishing.shape[0], n_v_sample)\n",
    "for r in range(rand_idx.shape[0]):\n",
    "    print(dataset_char_cat_flatten[rand_idx[r], 0])\n",
    "    plt.imshow(dataset_char_cat_X[rand_idx[r]], aspect='auto', cmap='Blues_r')\n",
    "    plt.grid(False)\n",
    "    plt.show()"
   ]
  },
  {
   "cell_type": "code",
   "execution_count": 13,
   "metadata": {},
   "outputs": [],
   "source": [
    "# np.save('dataset_2_char_cat_45000_15000_140', dataset_char_cat_flatten)"
   ]
  }
 ],
 "metadata": {
  "kernelspec": {
   "display_name": "Python 3",
   "language": "python",
   "name": "python3"
  },
  "language_info": {
   "codemirror_mode": {
    "name": "ipython",
    "version": 3
   },
   "file_extension": ".py",
   "mimetype": "text/x-python",
   "name": "python",
   "nbconvert_exporter": "python",
   "pygments_lexer": "ipython3",
   "version": "3.7.0"
  }
 },
 "nbformat": 4,
 "nbformat_minor": 4
}
