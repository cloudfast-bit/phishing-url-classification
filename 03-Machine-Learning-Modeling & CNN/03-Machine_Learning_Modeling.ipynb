{
 "cells": [
  {
   "cell_type": "markdown",
   "metadata": {
    "colab_type": "text",
    "id": "RNiaPxsYPkfF"
   },
   "source": [
    "# Machine Learning Modeling\n",
    "1. Logistic Regression \n",
    "2. MultinomialNB\n",
    "3. DecisionTreeClassifier\n",
    "4. RandomForestClassifier\n",
    "5. GradientBoostingClassifier\n",
    "6. XGBClassifier\n",
    "7. MLP"
   ]
  },
  {
   "cell_type": "code",
   "execution_count": null,
   "metadata": {
    "colab": {},
    "colab_type": "code",
    "id": "jWDlZfI3dP6D"
   },
   "outputs": [],
   "source": [
    "import tensorflow as tf\n",
    "import numpy as np\n",
    "from tensorflow import keras\n",
    "from tensorflow.keras.models import Sequential\n",
    "from tensorflow.keras.layers import Dense, Dropout, Activation\n",
    "from tensorflow.keras.optimizers import SGD\n",
    "from sklearn.model_selection import train_test_split\n",
    "from sklearn.metrics import classification_report\n",
    "from sklearn.metrics import recall_score\n",
    "import matplotlib.pyplot as plt\n",
    "import numpy as np\n",
    "from sklearn.model_selection import cross_val_score\n",
    "from keras.wrappers.scikit_learn import KerasClassifier \n",
    "from sklearn.model_selection import KFold \n",
    "from tensorflow.keras.optimizers import Adam\n",
    "\n",
    "# tf.logging.set_verbosity(tf.logging.ERROR)\n",
    "\n",
    "import numpy as np\n",
    "import pandas as pd\n",
    "from scipy import sparse\n",
    "import re\n",
    "import pickle\n",
    "import os\n",
    "from urllib.parse import urlparse, parse_qs\n",
    "from sklearn.model_selection import train_test_split\n",
    "from sklearn.metrics import classification_report\n",
    "from sklearn.tree import DecisionTreeClassifier\n",
    "from sklearn.ensemble import RandomForestClassifier\n",
    "from sklearn.linear_model import LogisticRegression\n",
    "from sklearn.naive_bayes import MultinomialNB\n",
    "from sklearn.ensemble import VotingClassifier\n",
    "from sklearn.linear_model import LogisticRegression\n",
    "from sklearn.ensemble import GradientBoostingClassifier\n",
    "import xgboost\n",
    "from sklearn.svm import SVC \n",
    "from sklearn.ensemble import BaggingClassifier\n",
    "from sklearn.metrics import recall_score\n",
    "import matplotlib.pyplot as plt\n",
    "from sklearn.model_selection import cross_val_score\n",
    "from warnings import filterwarnings\n",
    "from keras import backend as K\n",
    "from tensorflow.keras.utils import to_categorical\n",
    "from keras.layers import Input, concatenate, Reshape, Flatten, Dense, Conv2D, MaxPool2D, Dropout, BatchNormalization, Conv1D, MaxPool1D, UpSampling2D\n",
    "from keras.optimizers import Adam\n",
    "import keras\n",
    "from keras.models import Sequential\n",
    "from keras.layers import InputLayer\n",
    "filterwarnings('ignore')"
   ]
  },
  {
   "cell_type": "code",
   "execution_count": 2,
   "metadata": {
    "colab": {
     "base_uri": "https://localhost:8080/",
     "height": 122
    },
    "colab_type": "code",
    "id": "K1P5YdjNFXhp",
    "outputId": "72ca88e5-5f66-48cb-8cf7-14a3ac905cda"
   },
   "outputs": [
    {
     "name": "stdout",
     "output_type": "stream",
     "text": [
      "Go to this URL in a browser: https://accounts.google.com/o/oauth2/auth?client_id=947318989803-6bn6qk8qdgf4n4g3pfee6491hc0brc4i.apps.googleusercontent.com&redirect_uri=urn%3aietf%3awg%3aoauth%3a2.0%3aoob&response_type=code&scope=email%20https%3a%2f%2fwww.googleapis.com%2fauth%2fdocs.test%20https%3a%2f%2fwww.googleapis.com%2fauth%2fdrive%20https%3a%2f%2fwww.googleapis.com%2fauth%2fdrive.photos.readonly%20https%3a%2f%2fwww.googleapis.com%2fauth%2fpeopleapi.readonly\n",
      "\n",
      "Enter your authorization code:\n",
      "··········\n",
      "Mounted at /content/drive\n"
     ]
    }
   ],
   "source": [
    "from google.colab import drive\n",
    "drive.mount('/content/drive')"
   ]
  },
  {
   "cell_type": "code",
   "execution_count": 3,
   "metadata": {
    "colab": {
     "base_uri": "https://localhost:8080/",
     "height": 136
    },
    "colab_type": "code",
    "id": "e1045CzF5Bd9",
    "outputId": "d3a4204d-86b4-42bc-ac5a-8525a4091126"
   },
   "outputs": [
    {
     "data": {
      "text/plain": [
       "array([[  0., 104., 116., ...,   0.,   0.,   0.],\n",
       "       [  0., 104., 116., ...,   0.,   0.,   0.],\n",
       "       [  0., 104., 116., ...,   0.,   0.,   0.],\n",
       "       ...,\n",
       "       [  1., 104., 116., ...,   0.,   0.,   0.],\n",
       "       [  1., 104., 116., ..., 117., 115., 116.],\n",
       "       [  1., 104., 116., ...,   0.,   0.,   0.]])"
      ]
     },
     "execution_count": 3,
     "metadata": {
      "tags": []
     },
     "output_type": "execute_result"
    }
   ],
   "source": [
    "data = np.load('/content/drive/My Drive/test_colab/dataset_1_char_45000_15000.npy')\n",
    "data"
   ]
  },
  {
   "cell_type": "code",
   "execution_count": 4,
   "metadata": {
    "colab": {
     "base_uri": "https://localhost:8080/",
     "height": 34
    },
    "colab_type": "code",
    "id": "1AVNMn3hdjPa",
    "outputId": "898cf456-41e6-4223-bd36-2d98fc36bbd7"
   },
   "outputs": [
    {
     "data": {
      "text/plain": [
       "(60000, 101)"
      ]
     },
     "execution_count": 4,
     "metadata": {
      "tags": []
     },
     "output_type": "execute_result"
    }
   ],
   "source": [
    "data.shape"
   ]
  },
  {
   "cell_type": "code",
   "execution_count": null,
   "metadata": {
    "colab": {},
    "colab_type": "code",
    "id": "LgaAhTRAmUOD"
   },
   "outputs": [],
   "source": [
    "x = np.delete(data, 0, axis=1)"
   ]
  },
  {
   "cell_type": "code",
   "execution_count": 6,
   "metadata": {
    "colab": {
     "base_uri": "https://localhost:8080/",
     "height": 34
    },
    "colab_type": "code",
    "id": "GkdeoTwIYbPC",
    "outputId": "49f6c1be-39f8-4ece-908f-7c1894f52972"
   },
   "outputs": [
    {
     "data": {
      "text/plain": [
       "(60000, 100)"
      ]
     },
     "execution_count": 6,
     "metadata": {
      "tags": []
     },
     "output_type": "execute_result"
    }
   ],
   "source": [
    "x.shape"
   ]
  },
  {
   "cell_type": "code",
   "execution_count": null,
   "metadata": {
    "colab": {},
    "colab_type": "code",
    "id": "lHRNZBK1hCL3"
   },
   "outputs": [],
   "source": [
    "y = [row[0] for row in data]\n",
    "y = np.asarray(y)"
   ]
  },
  {
   "cell_type": "code",
   "execution_count": 8,
   "metadata": {
    "colab": {
     "base_uri": "https://localhost:8080/",
     "height": 34
    },
    "colab_type": "code",
    "id": "MH9wB2EVYdNj",
    "outputId": "f8167818-dedf-4de3-fc39-6dc491845b4f"
   },
   "outputs": [
    {
     "data": {
      "text/plain": [
       "(60000,)"
      ]
     },
     "execution_count": 8,
     "metadata": {
      "tags": []
     },
     "output_type": "execute_result"
    }
   ],
   "source": [
    "y.shape"
   ]
  },
  {
   "cell_type": "code",
   "execution_count": 9,
   "metadata": {
    "colab": {
     "base_uri": "https://localhost:8080/",
     "height": 34
    },
    "colab_type": "code",
    "id": "QHz-3BORdmXF",
    "outputId": "b0cf39ab-dcb8-419d-c9c9-1a72645d5b97"
   },
   "outputs": [
    {
     "data": {
      "text/plain": [
       "((48000, 100), (12000, 100), (48000,), (12000,))"
      ]
     },
     "execution_count": 9,
     "metadata": {
      "tags": []
     },
     "output_type": "execute_result"
    }
   ],
   "source": [
    "X_train, X_test, Y_train0, Y_test0 = train_test_split(x, y, test_size=0.2, random_state=10)\n",
    "X_train.shape, X_test.shape, Y_train0.shape, Y_test0.shape"
   ]
  },
  {
   "cell_type": "code",
   "execution_count": null,
   "metadata": {
    "colab": {},
    "colab_type": "code",
    "id": "4xF0iK7hv_SC"
   },
   "outputs": [],
   "source": [
    "Y_train, Y_test = to_categorical(Y_train0, 2), to_categorical(Y_test0, 2)"
   ]
  },
  {
   "cell_type": "code",
   "execution_count": null,
   "metadata": {
    "colab": {},
    "colab_type": "code",
    "id": "EwKWEM6IDQdU"
   },
   "outputs": [],
   "source": [
    "def model_func(model_nm, x_train, x_test, y_train, y_test):\n",
    "  model = model_nm().fit(x_train, y_train)\n",
    "\n",
    "  y_test_pred = model.predict(x_test)\n",
    "  print(classification_report(y_test, y_test_pred, target_names=['class 0', 'class 1']))\n",
    "  \n",
    "  # history_recall = cross_val_score(model, X_train, y_train, cv=10, scoring='recall')\n",
    "\n",
    "  return model\n",
    "         "
   ]
  },
  {
   "cell_type": "code",
   "execution_count": 12,
   "metadata": {
    "colab": {
     "base_uri": "https://localhost:8080/",
     "height": 170
    },
    "colab_type": "code",
    "id": "opLK76RQDR1_",
    "outputId": "e26aafa6-92fc-4678-eda5-a43f42dfcd46"
   },
   "outputs": [
    {
     "name": "stdout",
     "output_type": "stream",
     "text": [
      "              precision    recall  f1-score   support\n",
      "\n",
      "     class 0       0.90      0.96      0.92      8953\n",
      "     class 1       0.84      0.68      0.75      3047\n",
      "\n",
      "    accuracy                           0.88     12000\n",
      "   macro avg       0.87      0.82      0.84     12000\n",
      "weighted avg       0.88      0.88      0.88     12000\n",
      "\n"
     ]
    }
   ],
   "source": [
    "model_lr = model_func(LogisticRegression, X_train, X_test, Y_train0, Y_test0)"
   ]
  },
  {
   "cell_type": "code",
   "execution_count": 13,
   "metadata": {
    "colab": {
     "base_uri": "https://localhost:8080/",
     "height": 51
    },
    "colab_type": "code",
    "id": "igC-KEfNYrYN",
    "outputId": "3c29754a-85d1-4c99-9d7a-40ed0f0040cd"
   },
   "outputs": [
    {
     "data": {
      "text/plain": [
       "array([0.65719064, 0.659699  , 0.6722408 , 0.68284519, 0.66610879,\n",
       "       0.68451883, 0.69121339, 0.64769874, 0.68786611, 0.66108787])"
      ]
     },
     "execution_count": 13,
     "metadata": {
      "tags": []
     },
     "output_type": "execute_result"
    }
   ],
   "source": [
    "recall_lr  = cross_val_score(model_lr, X_train, Y_train0, cv=10, scoring='recall')\n",
    "recall_lr"
   ]
  },
  {
   "cell_type": "code",
   "execution_count": 14,
   "metadata": {
    "colab": {
     "base_uri": "https://localhost:8080/",
     "height": 170
    },
    "colab_type": "code",
    "id": "p64UewK_DkQo",
    "outputId": "06e86358-e6f3-47bd-cacc-cd1fb3e158d3"
   },
   "outputs": [
    {
     "name": "stdout",
     "output_type": "stream",
     "text": [
      "              precision    recall  f1-score   support\n",
      "\n",
      "     class 0       0.84      0.90      0.87      8953\n",
      "     class 1       0.63      0.49      0.55      3047\n",
      "\n",
      "    accuracy                           0.80     12000\n",
      "   macro avg       0.73      0.69      0.71     12000\n",
      "weighted avg       0.79      0.80      0.79     12000\n",
      "\n"
     ]
    }
   ],
   "source": [
    "model_NB = model_func(MultinomialNB, X_train, X_test, Y_train0, Y_test0)"
   ]
  },
  {
   "cell_type": "code",
   "execution_count": 15,
   "metadata": {
    "colab": {
     "base_uri": "https://localhost:8080/",
     "height": 51
    },
    "colab_type": "code",
    "id": "_bsQidQVZfGr",
    "outputId": "a0e6decc-9424-4666-fdb8-0b8b9adfdcdb"
   },
   "outputs": [
    {
     "data": {
      "text/plain": [
       "array([0.49080268, 0.47157191, 0.48327759, 0.51297071, 0.48368201,\n",
       "       0.50627615, 0.49623431, 0.47782427, 0.48786611, 0.47782427])"
      ]
     },
     "execution_count": 15,
     "metadata": {
      "tags": []
     },
     "output_type": "execute_result"
    }
   ],
   "source": [
    "recall_NB  = cross_val_score(model_NB, X_train, Y_train0, cv=10, scoring='recall')\n",
    "recall_NB"
   ]
  },
  {
   "cell_type": "code",
   "execution_count": 16,
   "metadata": {
    "colab": {
     "base_uri": "https://localhost:8080/",
     "height": 170
    },
    "colab_type": "code",
    "id": "_nRCF2AID2G8",
    "outputId": "c40ce5ac-a77d-4a69-a924-a3cf402d2d79"
   },
   "outputs": [
    {
     "name": "stdout",
     "output_type": "stream",
     "text": [
      "              precision    recall  f1-score   support\n",
      "\n",
      "     class 0       0.93      0.93      0.93      8953\n",
      "     class 1       0.79      0.80      0.80      3047\n",
      "\n",
      "    accuracy                           0.90     12000\n",
      "   macro avg       0.86      0.86      0.86     12000\n",
      "weighted avg       0.90      0.90      0.90     12000\n",
      "\n"
     ]
    }
   ],
   "source": [
    "model_dt = model_func(DecisionTreeClassifier, X_train, X_test, Y_train0, Y_test0)"
   ]
  },
  {
   "cell_type": "code",
   "execution_count": 17,
   "metadata": {
    "colab": {
     "base_uri": "https://localhost:8080/",
     "height": 51
    },
    "colab_type": "code",
    "id": "uX66rPstZmXp",
    "outputId": "571937f1-7094-4ab1-f9b6-baaacc67a8f1"
   },
   "outputs": [
    {
     "data": {
      "text/plain": [
       "array([0.79849498, 0.80100334, 0.80936455, 0.81338912, 0.78577406,\n",
       "       0.79832636, 0.80669456, 0.78075314, 0.81506276, 0.80167364])"
      ]
     },
     "execution_count": 17,
     "metadata": {
      "tags": []
     },
     "output_type": "execute_result"
    }
   ],
   "source": [
    "recall_dt  = cross_val_score(model_dt, X_train, Y_train0, cv=10, scoring='recall')\n",
    "recall_dt"
   ]
  },
  {
   "cell_type": "code",
   "execution_count": 18,
   "metadata": {
    "colab": {
     "base_uri": "https://localhost:8080/",
     "height": 170
    },
    "colab_type": "code",
    "id": "osK9NWf4D5mE",
    "outputId": "c1984cfe-dd0c-48fe-8777-80a7d5f71f7a"
   },
   "outputs": [
    {
     "name": "stdout",
     "output_type": "stream",
     "text": [
      "              precision    recall  f1-score   support\n",
      "\n",
      "     class 0       0.94      0.97      0.95      8953\n",
      "     class 1       0.92      0.80      0.85      3047\n",
      "\n",
      "    accuracy                           0.93     12000\n",
      "   macro avg       0.93      0.89      0.90     12000\n",
      "weighted avg       0.93      0.93      0.93     12000\n",
      "\n"
     ]
    }
   ],
   "source": [
    "model_rf = model_func(RandomForestClassifier, X_train, X_test, Y_train0, Y_test0)"
   ]
  },
  {
   "cell_type": "code",
   "execution_count": 19,
   "metadata": {
    "colab": {
     "base_uri": "https://localhost:8080/",
     "height": 51
    },
    "colab_type": "code",
    "id": "wVwMfaJJZ32n",
    "outputId": "a9bd67c1-d86b-4b11-8d47-c54f5a106b53"
   },
   "outputs": [
    {
     "data": {
      "text/plain": [
       "array([0.80183946, 0.80183946, 0.80351171, 0.8209205 , 0.7916318 ,\n",
       "       0.80669456, 0.81757322, 0.78828452, 0.81924686, 0.78075314])"
      ]
     },
     "execution_count": 19,
     "metadata": {
      "tags": []
     },
     "output_type": "execute_result"
    }
   ],
   "source": [
    "recall_rf  = cross_val_score(model_rf, X_train, Y_train0, cv=10, scoring='recall')\n",
    "recall_rf"
   ]
  },
  {
   "cell_type": "code",
   "execution_count": 20,
   "metadata": {
    "colab": {
     "base_uri": "https://localhost:8080/",
     "height": 170
    },
    "colab_type": "code",
    "id": "1ApSgXkLD_jh",
    "outputId": "2d634ca8-44cb-491c-c5a3-7dc40809d0ac"
   },
   "outputs": [
    {
     "name": "stdout",
     "output_type": "stream",
     "text": [
      "              precision    recall  f1-score   support\n",
      "\n",
      "     class 0       0.91      0.97      0.94      8953\n",
      "     class 1       0.88      0.73      0.80      3047\n",
      "\n",
      "    accuracy                           0.91     12000\n",
      "   macro avg       0.90      0.85      0.87     12000\n",
      "weighted avg       0.91      0.91      0.90     12000\n",
      "\n"
     ]
    }
   ],
   "source": [
    "model_gb = model_func(GradientBoostingClassifier, X_train, X_test, Y_train0, Y_test0)"
   ]
  },
  {
   "cell_type": "code",
   "execution_count": 21,
   "metadata": {
    "colab": {
     "base_uri": "https://localhost:8080/",
     "height": 51
    },
    "colab_type": "code",
    "id": "R7fhZEKLbFwi",
    "outputId": "9b82bd7f-b8a3-43f7-a0da-2d1fc8b6ce10"
   },
   "outputs": [
    {
     "data": {
      "text/plain": [
       "array([0.71989967, 0.71488294, 0.72575251, 0.73138075, 0.71046025,\n",
       "       0.74560669, 0.74309623, 0.69456067, 0.73389121, 0.70794979])"
      ]
     },
     "execution_count": 21,
     "metadata": {
      "tags": []
     },
     "output_type": "execute_result"
    }
   ],
   "source": [
    "recall_gb  = cross_val_score(model_gb, X_train, Y_train0, cv=10, scoring='recall')\n",
    "recall_gb"
   ]
  },
  {
   "cell_type": "code",
   "execution_count": 22,
   "metadata": {
    "colab": {
     "base_uri": "https://localhost:8080/",
     "height": 170
    },
    "colab_type": "code",
    "id": "jpcOVkXsEZse",
    "outputId": "9347c379-4c45-4305-ce1f-4148c67c6b21"
   },
   "outputs": [
    {
     "name": "stdout",
     "output_type": "stream",
     "text": [
      "              precision    recall  f1-score   support\n",
      "\n",
      "     class 0       0.91      0.97      0.94      8953\n",
      "     class 1       0.89      0.71      0.79      3047\n",
      "\n",
      "    accuracy                           0.91     12000\n",
      "   macro avg       0.90      0.84      0.87     12000\n",
      "weighted avg       0.90      0.91      0.90     12000\n",
      "\n"
     ]
    }
   ],
   "source": [
    "model_xgb = model_func(xgboost.XGBClassifier, X_train, X_test, Y_train0, Y_test0)"
   ]
  },
  {
   "cell_type": "code",
   "execution_count": 23,
   "metadata": {
    "colab": {
     "base_uri": "https://localhost:8080/",
     "height": 51
    },
    "colab_type": "code",
    "id": "xCD_qDBqAcH0",
    "outputId": "d2f6d08c-3432-47ab-cf1b-91af98ad4b0f"
   },
   "outputs": [
    {
     "data": {
      "text/plain": [
       "array([0.69397993, 0.68896321, 0.7048495 , 0.71799163, 0.69707113,\n",
       "       0.72803347, 0.72133891, 0.67447699, 0.72301255, 0.69623431])"
      ]
     },
     "execution_count": 23,
     "metadata": {
      "tags": []
     },
     "output_type": "execute_result"
    }
   ],
   "source": [
    "recall_xgb = cross_val_score(model_xgb, X_train, Y_train0, cv=10, scoring='recall')\n",
    "recall_xgb"
   ]
  },
  {
   "cell_type": "code",
   "execution_count": 24,
   "metadata": {
    "colab": {
     "base_uri": "https://localhost:8080/",
     "height": 170
    },
    "colab_type": "code",
    "id": "rGOPGqJtHIVg",
    "outputId": "f265efae-deca-4b73-e227-5caeb452adcb"
   },
   "outputs": [
    {
     "name": "stdout",
     "output_type": "stream",
     "text": [
      "              precision    recall  f1-score   support\n",
      "\n",
      "     class 0       0.89      0.97      0.93      8953\n",
      "     class 1       0.88      0.64      0.74      3047\n",
      "\n",
      "    accuracy                           0.89     12000\n",
      "   macro avg       0.88      0.81      0.84     12000\n",
      "weighted avg       0.89      0.89      0.88     12000\n",
      "\n"
     ]
    }
   ],
   "source": [
    "model_svc = model_func(SVC, X_train, X_test, Y_train0, Y_test0)"
   ]
  },
  {
   "cell_type": "code",
   "execution_count": 25,
   "metadata": {
    "colab": {
     "base_uri": "https://localhost:8080/",
     "height": 51
    },
    "colab_type": "code",
    "id": "Q5-42g8xFVnr",
    "outputId": "1cc2d68a-f6f1-44c7-9bc1-fe7b8d52db9d"
   },
   "outputs": [
    {
     "data": {
      "text/plain": [
       "array([0.62458194, 0.61371237, 0.62541806, 0.64686192, 0.62594142,\n",
       "       0.64686192, 0.64351464, 0.62677824, 0.64016736, 0.6251046 ])"
      ]
     },
     "execution_count": 25,
     "metadata": {
      "tags": []
     },
     "output_type": "execute_result"
    }
   ],
   "source": [
    "recall_svc = cross_val_score(model_svc, X_train, Y_train0, cv=10, scoring='recall')\n",
    "recall_svc"
   ]
  },
  {
   "cell_type": "code",
   "execution_count": 32,
   "metadata": {
    "colab": {
     "base_uri": "https://localhost:8080/",
     "height": 867
    },
    "colab_type": "code",
    "id": "ncjco5t5VL93",
    "outputId": "de581e6c-bf70-4d3a-891c-7ec646ba7016"
   },
   "outputs": [
    {
     "name": "stdout",
     "output_type": "stream",
     "text": [
      "Epoch 1/20\n",
      "48000/48000 [==============================] - 2s 42us/step - loss: 24.9919 - categorical_accuracy: 0.6851\n",
      "Epoch 2/20\n",
      "48000/48000 [==============================] - 0s 6us/step - loss: 2.2692 - categorical_accuracy: 0.7494\n",
      "Epoch 3/20\n",
      "48000/48000 [==============================] - 0s 6us/step - loss: 0.9708 - categorical_accuracy: 0.7788\n",
      "Epoch 4/20\n",
      "48000/48000 [==============================] - 0s 6us/step - loss: 0.8910 - categorical_accuracy: 0.7850\n",
      "Epoch 5/20\n",
      "48000/48000 [==============================] - 0s 6us/step - loss: 0.6105 - categorical_accuracy: 0.7893\n",
      "Epoch 6/20\n",
      "48000/48000 [==============================] - 0s 6us/step - loss: 0.5806 - categorical_accuracy: 0.7918\n",
      "Epoch 7/20\n",
      "48000/48000 [==============================] - 0s 6us/step - loss: 0.5261 - categorical_accuracy: 0.7973\n",
      "Epoch 8/20\n",
      "48000/48000 [==============================] - 0s 5us/step - loss: 0.4641 - categorical_accuracy: 0.8026\n",
      "Epoch 9/20\n",
      "48000/48000 [==============================] - 0s 6us/step - loss: 0.4321 - categorical_accuracy: 0.8084\n",
      "Epoch 10/20\n",
      "48000/48000 [==============================] - 0s 6us/step - loss: 0.4187 - categorical_accuracy: 0.8081\n",
      "Epoch 11/20\n",
      "48000/48000 [==============================] - 0s 5us/step - loss: 0.4431 - categorical_accuracy: 0.8109\n",
      "Epoch 12/20\n",
      "48000/48000 [==============================] - 0s 6us/step - loss: 0.3983 - categorical_accuracy: 0.8127\n",
      "Epoch 13/20\n",
      "48000/48000 [==============================] - 0s 6us/step - loss: 0.3902 - categorical_accuracy: 0.8151\n",
      "Epoch 14/20\n",
      "48000/48000 [==============================] - 0s 6us/step - loss: 0.3769 - categorical_accuracy: 0.8246\n",
      "Epoch 15/20\n",
      "48000/48000 [==============================] - 0s 6us/step - loss: 0.3703 - categorical_accuracy: 0.8350\n",
      "Epoch 16/20\n",
      "48000/48000 [==============================] - 0s 6us/step - loss: 0.3636 - categorical_accuracy: 0.8366\n",
      "Epoch 17/20\n",
      "48000/48000 [==============================] - 0s 6us/step - loss: 0.3580 - categorical_accuracy: 0.8391\n",
      "Epoch 18/20\n",
      "48000/48000 [==============================] - 0s 5us/step - loss: 0.3546 - categorical_accuracy: 0.8393\n",
      "Epoch 19/20\n",
      "48000/48000 [==============================] - 0s 6us/step - loss: 0.3496 - categorical_accuracy: 0.8431\n",
      "Epoch 20/20\n",
      "48000/48000 [==============================] - 0s 6us/step - loss: 0.3663 - categorical_accuracy: 0.8415\n",
      "              precision    recall  f1-score   support\n",
      "\n",
      "     class 0       0.87      0.98      0.92      8953\n",
      "     class 1       0.89      0.57      0.70      3047\n",
      "\n",
      "   micro avg       0.87      0.87      0.87     12000\n",
      "   macro avg       0.88      0.77      0.81     12000\n",
      "weighted avg       0.88      0.87      0.86     12000\n",
      " samples avg       0.87      0.87      0.87     12000\n",
      "\n"
     ]
    }
   ],
   "source": [
    "# mlp\n",
    "mlp_model = Sequential()\n",
    "mlp_model.add(Dense(20, activation='relu', input_dim=100))\n",
    "mlp_model.add(Dropout(0.5))\n",
    "mlp_model.add(Dense(2, activation='softmax'))\n",
    "mlp_model.compile(optimizer=Adam(lr=0.001), loss='categorical_crossentropy', metrics=['categorical_accuracy'])\n",
    "mlp_model.fit(X_train, Y_train, epochs=20, batch_size=512)\n",
    "y_pred_model = mlp_model.predict(X_test.astype(\"float\"))\n",
    "y_pred = np.where(y_pred_model > 0.5, 1, 0)\n",
    "print(classification_report(Y_test, y_pred, target_names=['class 0', 'class 1']))"
   ]
  },
  {
   "cell_type": "code",
   "execution_count": null,
   "metadata": {
    "colab": {},
    "colab_type": "code",
    "id": "6nK-4eBRkiCg"
   },
   "outputs": [],
   "source": [
    "def func1():\n",
    "    model = Sequential()\n",
    "    model.add(Dense(20, activation='relu', input_dim=100))\n",
    "    model.add(Dropout(0.5))\n",
    "    model.add(Dense(2, activation='softmax'))\n",
    "    model.compile(optimizer=Adam(lr=0.001), loss='categorical_crossentropy', metrics=['categorical_accuracy'])\n",
    "  \n",
    "    return model"
   ]
  },
  {
   "cell_type": "code",
   "execution_count": 34,
   "metadata": {
    "colab": {
     "base_uri": "https://localhost:8080/",
     "height": 51
    },
    "colab_type": "code",
    "id": "d4JUa6LxbPxl",
    "outputId": "bed9a752-70de-42cd-df79-5cdbef1558b7"
   },
   "outputs": [
    {
     "data": {
      "text/plain": [
       "array([0.61767135, 0.46560403, 0.49568966, 0.62859491, 0.52560873,\n",
       "       0.64732143, 0.4480737 , 0.60083333, 0.56756757, 0.00165289])"
      ]
     },
     "execution_count": 34,
     "metadata": {
      "tags": []
     },
     "output_type": "execute_result"
    }
   ],
   "source": [
    "neural_network = KerasClassifier(build_fn=func1, epochs=10, batch_size=10, verbose=0)\n",
    "recall_mlp = cross_val_score(neural_network, X_train, Y_train0, cv=10, scoring='recall')\n",
    "recall_mlp"
   ]
  },
  {
   "cell_type": "code",
   "execution_count": null,
   "metadata": {
    "colab": {},
    "colab_type": "code",
    "id": "bKrg7IRb35vp"
   },
   "outputs": [],
   "source": [
    "# cnn\n",
    "recall_cnn = np.array([0.87546816, 0.82075472, 0.91468254, 0.89468691, 0.89258555,\n",
    "       0.86363636, 0.        , 0.89126394, 0.89878163, 0.89514563])"
   ]
  },
  {
   "cell_type": "code",
   "execution_count": null,
   "metadata": {
    "colab": {},
    "colab_type": "code",
    "id": "3wOh1RJFOnDn"
   },
   "outputs": [],
   "source": [
    "recall = pd.DataFrame({'LogisticRegression' : recall_lr, 'Multinomial Naive Bayes' : recall_NB, 'Decision tree' : recall_dt, 'Random Forest' : recall_rf, 'Gradient Boosting' : recall_gb, 'XGBooster' : recall_xgb, 'SVC' : recall_svc, 'MLP': recall_mlp, 'CNN' : recall_cnn})"
   ]
  },
  {
   "cell_type": "code",
   "execution_count": 38,
   "metadata": {
    "colab": {
     "base_uri": "https://localhost:8080/",
     "height": 529
    },
    "colab_type": "code",
    "id": "GDgslVgIIj1g",
    "outputId": "3889c078-90fe-4b9f-b09f-dea28278e093"
   },
   "outputs": [
    {
     "data": {
      "image/png": "[encoded data removed]",
      "text/plain": [
       "<Figure size 864x504 with 1 Axes>"
      ]
     },
     "metadata": {
      "needs_background": "light",
      "tags": []
     },
     "output_type": "display_data"
    }
   ],
   "source": [
    "## boxplot\n",
    "plt.figure(figsize=(12, 7))\n",
    "recall.boxplot(column= ['LogisticRegression', 'Multinomial Naive Bayes', 'Decision tree', 'Random Forest', 'Gradient Boosting', 'XGBooster', 'SVC', 'MLP', 'CNN']) \n",
    "plt.xticks(size = 10, rotation=45)\n",
    "plt.yticks(size = 10)\n",
    "plt.title('Recall by Model')\n",
    "plt.ylabel(\"Recall\")\n",
    "plt.show()"
   ]
  },
  {
   "cell_type": "code",
   "execution_count": null,
   "metadata": {
    "colab": {},
    "colab_type": "code",
    "id": "xcGYfjYoCiTq"
   },
   "outputs": [],
   "source": []
  }
 ],
 "metadata": {
  "accelerator": "GPU",
  "colab": {
   "collapsed_sections": [],
   "name": "Machine-Learning-Model.ipynb의 사본",
   "provenance": []
  },
  "kernelspec": {
   "display_name": "Python 3",
   "language": "python",
   "name": "python3"
  },
  "language_info": {
   "codemirror_mode": {
    "name": "ipython",
    "version": 3
   },
   "file_extension": ".py",
   "mimetype": "text/x-python",
   "name": "python",
   "nbconvert_exporter": "python",
   "pygments_lexer": "ipython3",
   "version": "3.7.0"
  }
 },
 "nbformat": 4,
 "nbformat_minor": 4
}
