{
  "nbformat": 4,
  "nbformat_minor": 0,
  "metadata": {
    "colab": {
      "name": "Build-CAE.ipynb",
      "provenance": [],
      "collapsed_sections": [],
      "machine_shape": "hm"
    },
    "kernelspec": {
      "name": "python3",
      "display_name": "Python 3"
    },
    "accelerator": "GPU"
  },
  "cells": [
    {
      "cell_type": "code",
      "metadata": {
        "id": "MB-5q5cWZ7u-",
        "colab_type": "code",
        "colab": {}
      },
      "source": [
        "import numpy as np\n",
        "import pandas as pd\n",
        "from sklearn.model_selection import train_test_split\n",
        "from tensorflow.keras.utils import to_categorical\n",
        "from tensorflow import keras\n",
        "from keras.layers import Input, Dense, Conv2D, MaxPooling2D, UpSampling2D, Reshape, Flatten\n",
        "from keras.models import Model\n",
        "from keras import backend as K\n",
        "from keras.optimizers import Adam\n",
        "from keras.callbacks import EarlyStopping"
      ],
      "execution_count": 0,
      "outputs": []
    },
    {
      "cell_type": "code",
      "metadata": {
        "id": "4Q9uMfZMaaeJ",
        "colab_type": "code",
        "colab": {
          "base_uri": "https://localhost:8080/",
          "height": 122
        },
        "outputId": "11267ad9-e0a2-4d06-c347-2cb61f64fd64"
      },
      "source": [
        "from google.colab import drive\n",
        "drive.mount('/content/drive')"
      ],
      "execution_count": 2,
      "outputs": [
        {
          "output_type": "stream",
          "text": [
            "Go to this URL in a browser: https://accounts.google.com/o/oauth2/auth?client_id=947318989803-6bn6qk8qdgf4n4g3pfee6491hc0brc4i.apps.googleusercontent.com&redirect_uri=urn%3aietf%3awg%3aoauth%3a2.0%3aoob&response_type=code&scope=email%20https%3a%2f%2fwww.googleapis.com%2fauth%2fdocs.test%20https%3a%2f%2fwww.googleapis.com%2fauth%2fdrive%20https%3a%2f%2fwww.googleapis.com%2fauth%2fdrive.photos.readonly%20https%3a%2f%2fwww.googleapis.com%2fauth%2fpeopleapi.readonly\n",
            "\n",
            "Enter your authorization code:\n",
            "··········\n",
            "Mounted at /content/drive\n"
          ],
          "name": "stdout"
        }
      ]
    },
    {
      "cell_type": "code",
      "metadata": {
        "id": "bN04aEn5a5Pt",
        "colab_type": "code",
        "colab": {}
      },
      "source": [
        "data = np.load('/content/drive/My Drive/test_colab/dataset_2_char_cat_45000_15000_140.npy')"
      ],
      "execution_count": 0,
      "outputs": []
    },
    {
      "cell_type": "code",
      "metadata": {
        "id": "DBEa-pr8fgW9",
        "colab_type": "code",
        "colab": {
          "base_uri": "https://localhost:8080/",
          "height": 34
        },
        "outputId": "387e4d8a-1cfb-4ecf-cd33-0a168a38a321"
      },
      "source": [
        "data.shape"
      ],
      "execution_count": 4,
      "outputs": [
        {
          "output_type": "execute_result",
          "data": {
            "text/plain": [
              "(60000, 14001)"
            ]
          },
          "metadata": {
            "tags": []
          },
          "execution_count": 4
        }
      ]
    },
    {
      "cell_type": "code",
      "metadata": {
        "id": "9-kTBOScgCAQ",
        "colab_type": "code",
        "colab": {
          "base_uri": "https://localhost:8080/",
          "height": 51
        },
        "outputId": "efb5c45b-9c0a-4104-9075-435c97a53024"
      },
      "source": [
        "# Train, Test Split\n",
        "X, Y = data[:, 1:], data[:, 0]\n",
        "X_train, X_test, Y_train, Y_test = train_test_split(X, Y, train_size=0.7, shuffle=True, random_state=11)\n",
        "print(X_train.shape, Y_train.shape)\n",
        "print(X_test.shape, Y_test.shape)"
      ],
      "execution_count": 4,
      "outputs": [
        {
          "output_type": "stream",
          "text": [
            "(42000, 14000) (42000,)\n",
            "(18000, 14000) (18000,)\n"
          ],
          "name": "stdout"
        }
      ]
    },
    {
      "cell_type": "code",
      "metadata": {
        "id": "5N35qPeCbV7m",
        "colab_type": "code",
        "colab": {}
      },
      "source": [
        "Y_train_cnn = to_categorical(Y_train)\n",
        "Y_test_cnn = to_categorical(Y_test)"
      ],
      "execution_count": 0,
      "outputs": []
    },
    {
      "cell_type": "code",
      "metadata": {
        "id": "fwPuh6WCeW8o",
        "colab_type": "code",
        "colab": {
          "base_uri": "https://localhost:8080/",
          "height": 785
        },
        "outputId": "62e3f660-2e79-4d6f-b1cb-fdf4c705ced0"
      },
      "source": [
        "cae_input = Input((X_train.shape[1], ))  # adapt this if using `channels_first` image data format\n",
        "H = Reshape((100, 140, 1))(cae_input)\n",
        "\n",
        "# Encoded\n",
        "H = Conv2D(filters=32, kernel_size=(2, 2), padding='same', activation='relu')(H)\n",
        "H = MaxPooling2D((2,2))(H)\n",
        "H = Conv2D(filters=32, kernel_size=(2, 2), padding='same', activation='relu')(H)\n",
        "H = MaxPooling2D((2,2))(H)\n",
        "\n",
        "# Decoded\n",
        "\n",
        "H = Conv2D(filters=32, kernel_size=(2, 2), padding='same', activation='relu')(H)\n",
        "H = UpSampling2D((2, 2))(H)\n",
        "H = Conv2D(filters=32, kernel_size=(2, 2), padding='same', activation='relu')(H)\n",
        "H = UpSampling2D((2, 2))(H)\n",
        "H = Conv2D(filters=32, kernel_size=(2, 2), padding='same', activation='relu')(H)\n",
        "H = Conv2D(filters=1, kernel_size=(1, 1), padding='same', activation='relu')(H)\n",
        "\n",
        "cae_output = Flatten()(H)\n",
        "cae_model = Model(cae_input,cae_output)\n",
        "cae_model.summary()\n",
        "\n"
      ],
      "execution_count": 6,
      "outputs": [
        {
          "output_type": "stream",
          "text": [
            "WARNING:tensorflow:From /usr/local/lib/python3.6/dist-packages/keras/backend/tensorflow_backend.py:66: The name tf.get_default_graph is deprecated. Please use tf.compat.v1.get_default_graph instead.\n",
            "\n",
            "WARNING:tensorflow:From /usr/local/lib/python3.6/dist-packages/keras/backend/tensorflow_backend.py:541: The name tf.placeholder is deprecated. Please use tf.compat.v1.placeholder instead.\n",
            "\n",
            "WARNING:tensorflow:From /usr/local/lib/python3.6/dist-packages/keras/backend/tensorflow_backend.py:4432: The name tf.random_uniform is deprecated. Please use tf.random.uniform instead.\n",
            "\n",
            "WARNING:tensorflow:From /usr/local/lib/python3.6/dist-packages/keras/backend/tensorflow_backend.py:4267: The name tf.nn.max_pool is deprecated. Please use tf.nn.max_pool2d instead.\n",
            "\n",
            "WARNING:tensorflow:From /usr/local/lib/python3.6/dist-packages/keras/backend/tensorflow_backend.py:2239: The name tf.image.resize_nearest_neighbor is deprecated. Please use tf.compat.v1.image.resize_nearest_neighbor instead.\n",
            "\n",
            "Model: \"model_1\"\n",
            "_________________________________________________________________\n",
            "Layer (type)                 Output Shape              Param #   \n",
            "=================================================================\n",
            "input_1 (InputLayer)         (None, 14000)             0         \n",
            "_________________________________________________________________\n",
            "reshape_1 (Reshape)          (None, 100, 140, 1)       0         \n",
            "_________________________________________________________________\n",
            "conv2d_1 (Conv2D)            (None, 100, 140, 32)      160       \n",
            "_________________________________________________________________\n",
            "max_pooling2d_1 (MaxPooling2 (None, 50, 70, 32)        0         \n",
            "_________________________________________________________________\n",
            "conv2d_2 (Conv2D)            (None, 50, 70, 32)        4128      \n",
            "_________________________________________________________________\n",
            "max_pooling2d_2 (MaxPooling2 (None, 25, 35, 32)        0         \n",
            "_________________________________________________________________\n",
            "conv2d_3 (Conv2D)            (None, 25, 35, 32)        4128      \n",
            "_________________________________________________________________\n",
            "up_sampling2d_1 (UpSampling2 (None, 50, 70, 32)        0         \n",
            "_________________________________________________________________\n",
            "conv2d_4 (Conv2D)            (None, 50, 70, 32)        4128      \n",
            "_________________________________________________________________\n",
            "up_sampling2d_2 (UpSampling2 (None, 100, 140, 32)      0         \n",
            "_________________________________________________________________\n",
            "conv2d_5 (Conv2D)            (None, 100, 140, 32)      4128      \n",
            "_________________________________________________________________\n",
            "conv2d_6 (Conv2D)            (None, 100, 140, 1)       33        \n",
            "_________________________________________________________________\n",
            "flatten_1 (Flatten)          (None, 14000)             0         \n",
            "=================================================================\n",
            "Total params: 16,705\n",
            "Trainable params: 16,705\n",
            "Non-trainable params: 0\n",
            "_________________________________________________________________\n"
          ],
          "name": "stdout"
        }
      ]
    },
    {
      "cell_type": "code",
      "metadata": {
        "id": "6sDrbkWQitCj",
        "colab_type": "code",
        "colab": {
          "base_uri": "https://localhost:8080/",
          "height": 51
        },
        "outputId": "d800ffe0-90ea-48bd-aae6-721d4cc5a397"
      },
      "source": [
        "%%time\n",
        "adam = Adam(lr = 1e-04)\n",
        "cae_model.compile(loss='categorical_crossentropy', \n",
        "                  optimizer= adam, metrics=['accuracy'])"
      ],
      "execution_count": 13,
      "outputs": [
        {
          "output_type": "stream",
          "text": [
            "CPU times: user 35.6 ms, sys: 0 ns, total: 35.6 ms\n",
            "Wall time: 35.7 ms\n"
          ],
          "name": "stdout"
        }
      ]
    },
    {
      "cell_type": "code",
      "metadata": {
        "id": "i9Y5S-_3eH1J",
        "colab_type": "code",
        "colab": {
          "base_uri": "https://localhost:8080/",
          "height": 649
        },
        "outputId": "7a15f9dc-6fde-4356-ee95-c66158fb4d78"
      },
      "source": [
        "for i, l in enumerate(cae_model.layers):\n",
        "    l.trainable = False\n",
        "    l.name = 'cae_'+str(i)\n",
        "cae_model.summary()"
      ],
      "execution_count": 14,
      "outputs": [
        {
          "output_type": "stream",
          "text": [
            "Model: \"model_1\"\n",
            "_________________________________________________________________\n",
            "Layer (type)                 Output Shape              Param #   \n",
            "=================================================================\n",
            "cae_0 (InputLayer)           (None, 14000)             0         \n",
            "_________________________________________________________________\n",
            "cae_1 (Reshape)              (None, 100, 140, 1)       0         \n",
            "_________________________________________________________________\n",
            "cae_2 (Conv2D)               (None, 100, 140, 32)      160       \n",
            "_________________________________________________________________\n",
            "cae_3 (MaxPooling2D)         (None, 50, 70, 32)        0         \n",
            "_________________________________________________________________\n",
            "cae_4 (Conv2D)               (None, 50, 70, 32)        4128      \n",
            "_________________________________________________________________\n",
            "cae_5 (MaxPooling2D)         (None, 25, 35, 32)        0         \n",
            "_________________________________________________________________\n",
            "cae_6 (Conv2D)               (None, 25, 35, 32)        4128      \n",
            "_________________________________________________________________\n",
            "cae_7 (UpSampling2D)         (None, 50, 70, 32)        0         \n",
            "_________________________________________________________________\n",
            "cae_8 (Conv2D)               (None, 50, 70, 32)        4128      \n",
            "_________________________________________________________________\n",
            "cae_9 (UpSampling2D)         (None, 100, 140, 32)      0         \n",
            "_________________________________________________________________\n",
            "cae_10 (Conv2D)              (None, 100, 140, 32)      4128      \n",
            "_________________________________________________________________\n",
            "cae_11 (Conv2D)              (None, 100, 140, 1)       33        \n",
            "_________________________________________________________________\n",
            "cae_12 (Flatten)             (None, 14000)             0         \n",
            "=================================================================\n",
            "Total params: 33,410\n",
            "Trainable params: 16,705\n",
            "Non-trainable params: 16,705\n",
            "_________________________________________________________________\n"
          ],
          "name": "stdout"
        },
        {
          "output_type": "stream",
          "text": [
            "/usr/local/lib/python3.6/dist-packages/keras/engine/training.py:493: UserWarning: Discrepancy between trainable weights and collected trainable weights, did you set `model.trainable` without calling `model.compile` after ?\n",
            "  'Discrepancy between trainable weights and collected trainable'\n"
          ],
          "name": "stderr"
        }
      ]
    },
    {
      "cell_type": "code",
      "metadata": {
        "id": "uz7e1GmGqphE",
        "colab_type": "code",
        "colab": {}
      },
      "source": [
        ""
      ],
      "execution_count": 0,
      "outputs": []
    }
  ]
}