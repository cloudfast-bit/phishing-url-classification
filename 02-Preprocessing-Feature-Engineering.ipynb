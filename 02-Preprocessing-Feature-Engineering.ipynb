{
 "cells": [
  {
   "cell_type": "markdown",
   "metadata": {},
   "source": [
    "# Preprocessing & Feature Engineering"
   ]
  },
  {
   "cell_type": "markdown",
   "metadata": {},
   "source": [
    "### 1. Preprocessing : Character-to-vector Embedding\n",
    "- Sequence of Characters\n",
    "- Embedding Layer\n",
    "\n",
    "### 2. Feature Engineering \n",
    "- Synactics Extraction_Step01: Character-level Unicode Method\n",
    "- Synactics Extraction_Step02: Character-level One-hot Encoding"
   ]
  },
  {
   "cell_type": "code",
   "execution_count": 42,
   "metadata": {},
   "outputs": [],
   "source": [
    "#Copyright 2019, Seokjun Bu, Softcomputing LAB all rights reserved.\n",
    "%matplotlib inline\n",
    "import pandas as pd\n",
    "import numpy as np"
   ]
  },
  {
   "cell_type": "code",
   "execution_count": 2,
   "metadata": {},
   "outputs": [],
   "source": [
    "n_neutral, n_phishing = 45000, 15000\n",
    "n_max_char = 100\n",
    "\n",
    "# skiprows: 행 건너뛰기, header=None: 칼럼이름이 없다\n",
    "dataset_neutral = pd.read_csv('../input/url_0.csv', header=None, skiprows=0).sample(n=n_neutral, random_state=11)\n",
    "dataset_neutral = dataset_neutral[1].values\n",
    "\n",
    "dataset_phishing = pd.read_csv('../input/url_1.csv', header=None, skiprows=0).sample(n=n_phishing, random_state=11)\n",
    "dataset_phishing = dataset_phishing[1].values"
   ]
  },
  {
   "cell_type": "code",
   "execution_count": 3,
   "metadata": {},
   "outputs": [
    {
     "data": {
      "text/plain": [
       "((45000,), (15000,))"
      ]
     },
     "execution_count": 3,
     "metadata": {},
     "output_type": "execute_result"
    }
   ],
   "source": [
    "dataset_neutral.shape, dataset_phishing.shape"
   ]
  },
  {
   "cell_type": "markdown",
   "metadata": {},
   "source": [
    "### 1. Preprocessing\n",
    "- Sequence of Characters\n",
    "- Embedding Layer"
   ]
  },
  {
   "cell_type": "code",
   "execution_count": 4,
   "metadata": {},
   "outputs": [
    {
     "data": {
      "text/plain": [
       "'http://www.cybertruffle.org.uk/vinales/eng/schefflera_morototoni.htm'"
      ]
     },
     "execution_count": 4,
     "metadata": {},
     "output_type": "execute_result"
    }
   ],
   "source": [
    "dataset_neutral[1]"
   ]
  },
  {
   "cell_type": "code",
   "execution_count": 5,
   "metadata": {},
   "outputs": [
    {
     "name": "stdout",
     "output_type": "stream",
     "text": [
      "(14, 35.8264, 441)\n",
      "(12, 75.73886666666667, 4096)\n"
     ]
    }
   ],
   "source": [
    "def length_info(input_str_np):\n",
    "    min_length, avg_length, max_length = 999, 0, 0\n",
    "    for r in range(input_str_np.shape[0]):\n",
    "        length_buffer = len(input_str_np[r])\n",
    "        if length_buffer > max_length:\n",
    "            max_length = length_buffer\n",
    "        if length_buffer < min_length:\n",
    "            min_length = length_buffer\n",
    "        avg_length += length_buffer\n",
    "    avg_length /= input_str_np.shape[0]\n",
    "    return (min_length, avg_length, max_length)\n",
    "print(length_info(dataset_neutral))\n",
    "print(length_info(dataset_phishing))    "
   ]
  },
  {
   "cell_type": "markdown",
   "metadata": {},
   "source": [
    "#### Phising url의 길이가 Benign url 보다 평균 길이가 약 2배 더 길다."
   ]
  },
  {
   "cell_type": "code",
   "execution_count": 6,
   "metadata": {},
   "outputs": [
    {
     "name": "stderr",
     "output_type": "stream",
     "text": [
      "IOPub data rate exceeded.\n",
      "The notebook server will temporarily stop sending output\n",
      "to the client in order to avoid crashing it.\n",
      "To change this limit, set the config variable\n",
      "`--NotebookApp.iopub_data_rate_limit`.\n",
      "\n",
      "Current values:\n",
      "NotebookApp.iopub_data_rate_limit=1000000.0 (bytes/sec)\n",
      "NotebookApp.rate_limit_window=3.0 (secs)\n",
      "\n"
     ]
    },
    {
     "name": "stdout",
     "output_type": "stream",
     "text": [
      "[['0' 'http://www.meigaoyi.com']\n",
      " ['0'\n",
      "  'http://www.cybertruffle.org.uk/vinales/eng/schefflera_morototoni.htm']\n",
      " ['0' 'http://prague.tv/funny-pictures-archive/']\n",
      " ...\n",
      " ['1'\n",
      "  'http://www.auto-ecole-rennes.com/wp-includes/Text/Diff/83b3926efe21b0905f3eddd62a07bbeb/1/']\n",
      " ['1'\n",
      "  'http://coolestspotontheweb.com/wp-content/plugins/ubh/agrement/a78b30fdd6908e5aa971670752a62dfa/customer_center/customer-IDPP00C572/myaccount/signin/']\n",
      " ['1'\n",
      "  'http://www.niagamall.com/wp-includes/widgets/bankingofamerica.com/update.html']] (60000, 2)\n"
     ]
    }
   ],
   "source": [
    "dataset_string = []\n",
    "for r in range(dataset_neutral.shape[0]):\n",
    "    row_buffer = []\n",
    "    row_buffer.append(0)\n",
    "    row_buffer.append(dataset_neutral[r])\n",
    "    dataset_string.append(row_buffer)\n",
    "for r in range(dataset_phishing.shape[0]):\n",
    "    row_buffer = []\n",
    "    row_buffer.append(1)\n",
    "    row_buffer.append(dataset_phishing[r])\n",
    "    dataset_string.append(row_buffer)\n",
    "    \n",
    "print(dataset_string)\n",
    "dataset_string = np.array(dataset_string)\n",
    "print(dataset_string, dataset_string.shape)"
   ]
  },
  {
   "cell_type": "markdown",
   "metadata": {},
   "source": [
    "### 2. Feature Engineering\n",
    "- Synactics Extraction_Step01: Character-level Unicode Method\n",
    "- Synactics Extraction_Step02: Character-level One-hot Encoding"
   ]
  },
  {
   "cell_type": "code",
   "execution_count": 30,
   "metadata": {},
   "outputs": [
    {
     "name": "stdout",
     "output_type": "stream",
     "text": [
      "[[  0. 104. 116. ...   0.   0.   0.]\n",
      " [  0. 104. 116. ...   0.   0.   0.]\n",
      " [  0. 104. 116. ...   0.   0.   0.]\n",
      " ...\n",
      " [  0. 104. 116. ...   0.   0.   0.]\n",
      " [  0. 104. 116. ... 117. 115. 116.]\n",
      " [  0. 104. 116. ...   0.   0.   0.]]\n"
     ]
    }
   ],
   "source": [
    "###############################################################\n",
    "# Synactics Extraction_Step01: Character-level Unicode Method #\n",
    "###############################################################\n",
    "\n",
    "dataset_np = np.zeros((n_neutral+n_phishing, n_max_char+1))\n",
    "for r in range(dataset_neutral.shape[0]):\n",
    "    dataset_np[r, 0] = 0\n",
    "    length_buffer = len(dataset_neutral[r])\n",
    "    for c in range(n_max_char):\n",
    "        if c < length_buffer:\n",
    "            dataset_np[r, c+1] = ord(dataset_neutral[r][c])\n",
    "        else:\n",
    "            break\n",
    "for r in range(dataset_phishing.shape[0]):\n",
    "    dataset_np[r+dataset_phishing.shape[0], 0] = 1\n",
    "    length_buffer = len(dataset_phishing[r])\n",
    "    for c in range(n_max_char):\n",
    "        if c < length_buffer:\n",
    "            dataset_np[r + dataset_neutral.shape[0], c+1] = ord(dataset_phishing[r][c])\n",
    "        else:\n",
    "            break\n",
    "print(dataset_np)            "
   ]
  },
  {
   "cell_type": "code",
   "execution_count": 62,
   "metadata": {},
   "outputs": [
    {
     "name": "stdout",
     "output_type": "stream",
     "text": [
      "1.0\n"
     ]
    },
    {
     "data": {
      "image/png": "[encoded data removed]",
      "text/plain": [
       "<Figure size 432x288 with 1 Axes>"
      ]
     },
     "metadata": {
      "needs_background": "light"
     },
     "output_type": "display_data"
    },
    {
     "name": "stdout",
     "output_type": "stream",
     "text": [
      "0.0\n"
     ]
    },
    {
     "data": {
      "image/png": "[encoded data removed]",
      "text/plain": [
       "<Figure size 432x288 with 1 Axes>"
      ]
     },
     "metadata": {
      "needs_background": "light"
     },
     "output_type": "display_data"
    },
    {
     "name": "stdout",
     "output_type": "stream",
     "text": [
      "1.0\n"
     ]
    },
    {
     "data": {
      "image/png": "[encoded data removed]",
      "text/plain": [
       "<Figure size 432x288 with 1 Axes>"
      ]
     },
     "metadata": {
      "needs_background": "light"
     },
     "output_type": "display_data"
    }
   ],
   "source": [
    "# Visualize char samples\n",
    "n_v_sample = 3\n",
    "rand_idx = np.random.randint(0, dataset_np.shape[0], n_v_sample)\n",
    "for r in range(rand_idx.shape[0]):\n",
    "    print(dataset_np[rand_idx[r], 0])\n",
    "    plt.plot(dataset_np[rand_idx[r]])\n",
    "    plt.show()"
   ]
  },
  {
   "cell_type": "code",
   "execution_count": null,
   "metadata": {},
   "outputs": [],
   "source": []
  }
 ],
 "metadata": {
  "kernelspec": {
   "display_name": "Python 3",
   "language": "python",
   "name": "python3"
  },
  "language_info": {
   "codemirror_mode": {
    "name": "ipython",
    "version": 3
   },
   "file_extension": ".py",
   "mimetype": "text/x-python",
   "name": "python",
   "nbconvert_exporter": "python",
   "pygments_lexer": "ipython3",
   "version": "3.7.0"
  }
 },
 "nbformat": 4,
 "nbformat_minor": 4
}
