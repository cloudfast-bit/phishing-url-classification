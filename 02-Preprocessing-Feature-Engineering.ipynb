{
 "cells": [
  {
   "cell_type": "markdown",
   "metadata": {},
   "source": [
    "# Preprocessing & Feature Engineering"
   ]
  },
  {
   "cell_type": "markdown",
   "metadata": {},
   "source": [
    "### 1. Preprocessing : Character-to-vector Embedding\n",
    "- Sequence of Characters\n",
    "- Embedding Layer\n",
    "\n",
    "### 2. Feature Engineering \n",
    "- Synactics Extraction_Step01: Character-level Unicode Method\n",
    "- Synactics Extraction_Step02: Character-level One-hot Encoding"
   ]
  },
  {
   "cell_type": "code",
   "execution_count": 1,
   "metadata": {},
   "outputs": [],
   "source": [
    "import pandas as pd\n",
    "import numpy as np"
   ]
  },
  {
   "cell_type": "code",
   "execution_count": 2,
   "metadata": {},
   "outputs": [],
   "source": [
    "n_neutral, n_phishing = 45000, 15000\n",
    "n_max_char = 100\n",
    "\n",
    "# skiprows: 행 건너뛰기, header=None: 칼럼이름이 없다\n",
    "dataset_neutral = pd.read_csv('../input/url_0.csv', header=None, skiprows=0).sample(n=n_neutral, random_state=11)\n",
    "dataset_neutral = dataset_neutral[1].values\n",
    "\n",
    "dataset_phishing = pd.read_csv('../input/url_1.csv', header=None, skiprows=0).sample(n=n_phishing, random_state=11)\n",
    "dataset_phishing = dataset_phishing[1].values"
   ]
  },
  {
   "cell_type": "code",
   "execution_count": 9,
   "metadata": {},
   "outputs": [
    {
     "data": {
      "text/plain": [
       "((45000,), (15000,))"
      ]
     },
     "execution_count": 9,
     "metadata": {},
     "output_type": "execute_result"
    }
   ],
   "source": [
    "dataset_neutral.shape, dataset_phishing.shape"
   ]
  },
  {
   "cell_type": "markdown",
   "metadata": {},
   "source": [
    "1. Preprocessing\n",
    "- Sequence of Characters\n",
    "- Embedding Layer"
   ]
  },
  {
   "cell_type": "code",
   "execution_count": 11,
   "metadata": {},
   "outputs": [
    {
     "data": {
      "text/plain": [
       "'http://www.cybertruffle.org.uk/vinales/eng/schefflera_morototoni.htm'"
      ]
     },
     "execution_count": 11,
     "metadata": {},
     "output_type": "execute_result"
    }
   ],
   "source": [
    "dataset_neutral[1]"
   ]
  },
  {
   "cell_type": "code",
   "execution_count": 12,
   "metadata": {},
   "outputs": [
    {
     "name": "stdout",
     "output_type": "stream",
     "text": [
      "(14, 35.8264, 441)\n",
      "(12, 75.73886666666667, 4096)\n"
     ]
    }
   ],
   "source": [
    "def length_info(input_str_np):\n",
    "    min_length, avg_length, max_length = 999, 0, 0\n",
    "    for r in range(input_str_np.shape[0]):\n",
    "        length_buffer = len(input_str_np[r])\n",
    "        if length_buffer > max_length:\n",
    "            max_length = length_buffer\n",
    "        if length_buffer < min_length:\n",
    "            min_length = length_buffer\n",
    "        avg_length += length_buffer\n",
    "    avg_length /= input_str_np.shape[0]\n",
    "    return (min_length, avg_length, max_length)\n",
    "print(length_info(dataset_neutral))\n",
    "print(length_info(dataset_phishing))    "
   ]
  },
  {
   "cell_type": "markdown",
   "metadata": {},
   "source": [
    "#### Phising url의 길이가 Benign url 보다 평균 길이가 약 2배 더 길다."
   ]
  },
  {
   "cell_type": "code",
   "execution_count": 14,
   "metadata": {},
   "outputs": [
    {
     "name": "stderr",
     "output_type": "stream",
     "text": [
      "IOPub data rate exceeded.\n",
      "The notebook server will temporarily stop sending output\n",
      "to the client in order to avoid crashing it.\n",
      "To change this limit, set the config variable\n",
      "`--NotebookApp.iopub_data_rate_limit`.\n",
      "\n",
      "Current values:\n",
      "NotebookApp.iopub_data_rate_limit=1000000.0 (bytes/sec)\n",
      "NotebookApp.rate_limit_window=3.0 (secs)\n",
      "\n"
     ]
    },
    {
     "name": "stdout",
     "output_type": "stream",
     "text": [
      "[['0' 'http://www.meigaoyi.com']\n",
      " ['0'\n",
      "  'http://www.cybertruffle.org.uk/vinales/eng/schefflera_morototoni.htm']\n",
      " ['0' 'http://prague.tv/funny-pictures-archive/']\n",
      " ...\n",
      " ['1'\n",
      "  'http://www.auto-ecole-rennes.com/wp-includes/Text/Diff/83b3926efe21b0905f3eddd62a07bbeb/1/']\n",
      " ['1'\n",
      "  'http://coolestspotontheweb.com/wp-content/plugins/ubh/agrement/a78b30fdd6908e5aa971670752a62dfa/customer_center/customer-IDPP00C572/myaccount/signin/']\n",
      " ['1'\n",
      "  'http://www.niagamall.com/wp-includes/widgets/bankingofamerica.com/update.html']] (60000, 2)\n"
     ]
    }
   ],
   "source": [
    "dataset_string = []\n",
    "for r in range(dataset_neutral.shape[0]):\n",
    "    row_buffer = []\n",
    "    row_buffer.append(0)\n",
    "    row_buffer.append(dataset_neutral[r])\n",
    "    dataset_string.append(row_buffer)\n",
    "for r in range(dataset_phishing.shape[0]):\n",
    "    row_buffer = []\n",
    "    row_buffer.append(1)\n",
    "    row_buffer.append(dataset_phishing[r])\n",
    "    dataset_string.append(row_buffer)\n",
    "    \n",
    "print(dataset_string)\n",
    "dataset_string = np.array(dataset_string)\n",
    "print(dataset_string, dataset_string.shape)"
   ]
  },
  {
   "cell_type": "code",
   "execution_count": null,
   "metadata": {},
   "outputs": [],
   "source": []
  }
 ],
 "metadata": {
  "kernelspec": {
   "display_name": "Python 3",
   "language": "python",
   "name": "python3"
  },
  "language_info": {
   "codemirror_mode": {
    "name": "ipython",
    "version": 3
   },
   "file_extension": ".py",
   "mimetype": "text/x-python",
   "name": "python",
   "nbconvert_exporter": "python",
   "pygments_lexer": "ipython3",
   "version": "3.7.0"
  }
 },
 "nbformat": 4,
 "nbformat_minor": 4
}
