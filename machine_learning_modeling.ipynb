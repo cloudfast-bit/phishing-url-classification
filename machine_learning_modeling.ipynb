{
  "nbformat": 4,
  "nbformat_minor": 0,
  "metadata": {
    "colab": {
      "name": "machine learning_modeling",
      "version": "0.3.2",
      "provenance": [],
      "collapsed_sections": []
    },
    "kernelspec": {
      "name": "python3",
      "display_name": "Python 3"
    },
    "accelerator": "GPU"
  },
  "cells": [
    {
      "cell_type": "code",
      "metadata": {
        "id": "5i63dGApC86F",
        "colab_type": "code",
        "outputId": "806129e7-6fce-444f-c244-25edf9983f2f",
        "colab": {
          "base_uri": "https://localhost:8080/",
          "height": 54
        }
      },
      "source": [
        "from google.colab import drive\n",
        "drive.mount('/content/drive')"
      ],
      "execution_count": 1,
      "outputs": [
        {
          "output_type": "stream",
          "text": [
            "Drive already mounted at /content/drive; to attempt to forcibly remount, call drive.mount(\"/content/drive\", force_remount=True).\n"
          ],
          "name": "stdout"
        }
      ]
    },
    {
      "cell_type": "code",
      "metadata": {
        "id": "X7fXkDDEJ_UJ",
        "colab_type": "code",
        "colab": {}
      },
      "source": [
        "import numpy as np\n",
        "import pandas as pd\n",
        "from scipy import sparse\n",
        "import re\n",
        "import pickle\n",
        "import os\n",
        "from urllib.parse import urlparse, parse_qs\n",
        "from sklearn.model_selection import train_test_split\n",
        "from sklearn.metrics import classification_report\n",
        "from sklearn.tree import DecisionTreeClassifier\n",
        "from sklearn.ensemble import RandomForestClassifier\n",
        "from sklearn.linear_model import LogisticRegression\n",
        "from sklearn.naive_bayes import MultinomialNB\n",
        "from sklearn.ensemble import VotingClassifier\n",
        "from sklearn.linear_model import LogisticRegression\n",
        "from sklearn.ensemble import GradientBoostingClassifier\n",
        "import xgboost\n",
        "from sklearn.svm import LinearSVC\n",
        "from sklearn.ensemble import BaggingClassifier\n",
        "from sklearn.metrics import recall_score\n",
        "import matplotlib.pyplot as plt\n",
        "from sklearn.model_selection import cross_val_score"
      ],
      "execution_count": 0,
      "outputs": []
    },
    {
      "cell_type": "code",
      "metadata": {
        "id": "E4HvOPLGKpMm",
        "colab_type": "code",
        "colab": {}
      },
      "source": [
        "df = pd.read_csv(\"/content/drive/My Drive/test_colab/df.csv\")\n",
        "df"
      ],
      "execution_count": 0,
      "outputs": []
    },
    {
      "cell_type": "code",
      "metadata": {
        "id": "qb2TL69uN6bZ",
        "colab_type": "code",
        "colab": {}
      },
      "source": [
        "df.drop(['Unnamed: 0'], axis=1, inplace=True)"
      ],
      "execution_count": 0,
      "outputs": []
    },
    {
      "cell_type": "code",
      "metadata": {
        "id": "qxAr-M3nNXWX",
        "colab_type": "code",
        "colab": {}
      },
      "source": [
        "df['length'] = df.url.str.len()\n",
        "df['sharp'] = (df.url.str.count('#'))\n",
        "df['equal'] = (df.url.str.count('='))\n",
        "df['slash'] = ((df.url.str.count('/')) - 2)\n",
        "df['dbleslash'] = (df.url.str.count('//')) - 1\n",
        "df['question'] = (df.url.str.count('\\?'))\n",
        "df['com'] = (df.url.str.count('.com'))\n",
        "df['dot'] = (df.url.str.count('\\.'))\n",
        "df['protocols'] = (df.url.str.count('https://') + df.url.str.count('http://'))\n",
        "df['comma'] = (df.url.str.count('\\,'))\n",
        "tld = df.url.str.rpartition('.')[2]\n",
        "tld = tld.str.replace('\\/','')\n",
        "subdomain = df.url.str.rpartition('.')[0]\n",
        "subdomain = subdomain.str.rpartition('.')[2].str.replace('http://','').replace('https://','')\n",
        "df['TLD'] = pd.DataFrame(tld.tolist(), index=df.index)\n",
        "df['subdomain'] = pd.DataFrame(subdomain.tolist(), index=df.index)"
      ],
      "execution_count": 0,
      "outputs": []
    },
    {
      "cell_type": "code",
      "metadata": {
        "id": "HsgHUpM9OALb",
        "colab_type": "code",
        "colab": {}
      },
      "source": [
        "def countdelim(url):\n",
        "    count = 0\n",
        "    delim = [';', '_', '?', '=', '&']\n",
        "    for each in url:\n",
        "        if each in delim:\n",
        "            count = count + 1\n",
        "    return count\n",
        "    \n",
        "def isPresentHyphen(url):\n",
        "    return url.count('-')\n",
        "    \n",
        "def isPresentAt(url):\n",
        "    return url.count('@')\n",
        "\n",
        "def isPresentDSlash(url):\n",
        "    return url.count('//')\n",
        "    \n",
        "def countSubDir(url):\n",
        "    return url.count('/')\n",
        "    \n",
        "def get_ext(url):    \n",
        "    root, ext = os.path.splitext(url)\n",
        "    return ext\n",
        "    \n",
        "def countSubDomain(subdomain):\n",
        "    if not subdomain:\n",
        "        return 0\n",
        "    else:\n",
        "        return len(subdomain.split('.'))\n",
        "    \n",
        "\n",
        "df['count_hyphen'] = df['url'].apply(lambda row: isPresentHyphen(row))\n",
        "df['count_DSlach'] = df['url'].apply(lambda row: isPresentDSlash(row))\n",
        "df['count_SubDir'] = df['url'].apply(lambda row: countSubDir(row))\n",
        "df['ext'] = df['url'].apply(lambda row: get_ext(row))\n",
        "df['count_SubDomain'] = df['ext'].apply(lambda row: countSubDomain(row)) \n",
        "df['temp'] = df['url'].apply(lambda url: list(urlparse(url)))\n",
        "columns = ['scheme', 'netloc', 'path', 'params', 'query', 'fragment']\n",
        "df[columns] = pd.DataFrame(df.temp.values.tolist(), index=df.index)\n",
        "df.drop('temp', axis=1, inplace=True)    "
      ],
      "execution_count": 0,
      "outputs": []
    },
    {
      "cell_type": "code",
      "metadata": {
        "id": "On5VryhUambL",
        "colab_type": "code",
        "colab": {}
      },
      "source": [
        "from sklearn import preprocessing\n",
        "\n",
        "categorical = ['TLD', 'subdomain', 'ext', 'scheme', 'netloc', 'path', 'params', 'query', 'fragment'] \n",
        "for f in categorical:\n",
        "        lbl = preprocessing.LabelEncoder() \n",
        "        lbl.fit(df[f])\n",
        "        df[f] = lbl.transform(df[f])"
      ],
      "execution_count": 0,
      "outputs": []
    },
    {
      "cell_type": "code",
      "metadata": {
        "id": "Vqad6xhHfIVy",
        "colab_type": "code",
        "colab": {}
      },
      "source": [
        "X = df[['length', 'sharp', 'equal', 'slash', 'dbleslash', 'question', 'com',\\\n",
        "        'dot', 'protocols', 'comma', 'count_hyphen', 'count_DSlach', 'count_SubDir',\\\n",
        "        'count_SubDomain','TLD', 'subdomain', 'ext', 'scheme', 'netloc', 'path', 'params', 'query', 'fragment'\n",
        "       ]]\n",
        "y = df['label']\n",
        "\n",
        "X_train, X_test, y_train, y_test = train_test_split(X, y, test_size=0.3, random_state=0)"
      ],
      "execution_count": 0,
      "outputs": []
    },
    {
      "cell_type": "code",
      "metadata": {
        "id": "KBiqXJi3j7J-",
        "colab_type": "code",
        "colab": {
          "base_uri": "https://localhost:8080/",
          "height": 224
        },
        "outputId": "2289a5a3-b9c8-46f9-9c2f-8bcfd357cddc"
      },
      "source": [
        "## LogisticRegression\n",
        "logreg = LogisticRegression().fit(X_train, y_train)\n",
        "logreg_pred_y = logreg.predict(X_test)\n",
        "print(classification_report(y_test, logreg_pred_y, target_names=['class 0', 'class 1']))"
      ],
      "execution_count": 9,
      "outputs": [
        {
          "output_type": "stream",
          "text": [
            "/usr/local/lib/python3.6/dist-packages/sklearn/linear_model/logistic.py:432: FutureWarning: Default solver will be changed to 'lbfgs' in 0.22. Specify a solver to silence this warning.\n",
            "  FutureWarning)\n"
          ],
          "name": "stderr"
        },
        {
          "output_type": "stream",
          "text": [
            "              precision    recall  f1-score   support\n",
            "\n",
            "     class 0       0.87      0.92      0.90     13490\n",
            "     class 1       0.72      0.60      0.66      4510\n",
            "\n",
            "    accuracy                           0.84     18000\n",
            "   macro avg       0.80      0.76      0.78     18000\n",
            "weighted avg       0.84      0.84      0.84     18000\n",
            "\n"
          ],
          "name": "stdout"
        }
      ]
    },
    {
      "cell_type": "code",
      "metadata": {
        "id": "NoP5eChpAJ2E",
        "colab_type": "code",
        "colab": {}
      },
      "source": [
        "from warnings import simplefilter\n",
        "simplefilter(action='ignore', category=FutureWarning)\n",
        "recall_lr = cross_val_score(logreg, X_train, y_train, cv=10, scoring='recall')"
      ],
      "execution_count": 0,
      "outputs": []
    },
    {
      "cell_type": "code",
      "metadata": {
        "id": "dwdbcWT6eQXJ",
        "colab_type": "code",
        "colab": {
          "base_uri": "https://localhost:8080/",
          "height": 170
        },
        "outputId": "6bf34036-fa79-4435-b3a0-acfda365d168"
      },
      "source": [
        "## Multinomial Naive Bayes\n",
        "model_mult = MultinomialNB().fit(X_train, y_train)\n",
        "mult_pred_y = model_mult.predict(X_test)\n",
        "print(classification_report(y_test, mult_pred_y, target_names=['class 0', 'class 1']))"
      ],
      "execution_count": 11,
      "outputs": [
        {
          "output_type": "stream",
          "text": [
            "              precision    recall  f1-score   support\n",
            "\n",
            "     class 0       0.90      0.75      0.82     13490\n",
            "     class 1       0.50      0.76      0.60      4510\n",
            "\n",
            "    accuracy                           0.75     18000\n",
            "   macro avg       0.70      0.75      0.71     18000\n",
            "weighted avg       0.80      0.75      0.76     18000\n",
            "\n"
          ],
          "name": "stdout"
        }
      ]
    },
    {
      "cell_type": "code",
      "metadata": {
        "id": "K0bmHoQWk8Ny",
        "colab_type": "code",
        "colab": {}
      },
      "source": [
        "recall_mnb = cross_val_score(model_mult, X_train, y_train, cv=10, scoring='recall')"
      ],
      "execution_count": 0,
      "outputs": []
    },
    {
      "cell_type": "code",
      "metadata": {
        "id": "GgpppEXCPLSZ",
        "colab_type": "code",
        "colab": {
          "base_uri": "https://localhost:8080/",
          "height": 170
        },
        "outputId": "e7511833-ee82-4985-ab57-d333da96a584"
      },
      "source": [
        "## DT\n",
        "tree_model = DecisionTreeClassifier(criterion='entropy', max_depth=3, random_state=0).fit(X_train, y_train)\n",
        "tree_pred_y = tree_model.predict(X_test)\n",
        "print(classification_report(y_test, tree_pred_y, target_names=['class 0', 'class 1']))"
      ],
      "execution_count": 13,
      "outputs": [
        {
          "output_type": "stream",
          "text": [
            "              precision    recall  f1-score   support\n",
            "\n",
            "     class 0       0.86      0.99      0.92     13490\n",
            "     class 1       0.93      0.53      0.68      4510\n",
            "\n",
            "    accuracy                           0.87     18000\n",
            "   macro avg       0.90      0.76      0.80     18000\n",
            "weighted avg       0.88      0.87      0.86     18000\n",
            "\n"
          ],
          "name": "stdout"
        }
      ]
    },
    {
      "cell_type": "code",
      "metadata": {
        "id": "SEH1hLzFlEFP",
        "colab_type": "code",
        "colab": {}
      },
      "source": [
        "recall_tr = cross_val_score(tree_model, X_train, y_train, cv=10, scoring='recall')"
      ],
      "execution_count": 0,
      "outputs": []
    },
    {
      "cell_type": "code",
      "metadata": {
        "id": "6eD5-cR0hMUb",
        "colab_type": "code",
        "colab": {
          "base_uri": "https://localhost:8080/",
          "height": 170
        },
        "outputId": "df4d3d5a-49f2-40cd-ccb2-c993018c5c4f"
      },
      "source": [
        "## RF\n",
        "forest_model = RandomForestClassifier(n_estimators=5, random_state=2).fit(X_train, y_train)\n",
        "forest_pred_y = forest_model.predict(X_test)\n",
        "print(classification_report(y_test, forest_pred_y, target_names=['class 0', 'class 1']))"
      ],
      "execution_count": 15,
      "outputs": [
        {
          "output_type": "stream",
          "text": [
            "              precision    recall  f1-score   support\n",
            "\n",
            "     class 0       0.96      0.97      0.96     13490\n",
            "     class 1       0.91      0.87      0.89      4510\n",
            "\n",
            "    accuracy                           0.95     18000\n",
            "   macro avg       0.93      0.92      0.93     18000\n",
            "weighted avg       0.95      0.95      0.95     18000\n",
            "\n"
          ],
          "name": "stdout"
        }
      ]
    },
    {
      "cell_type": "code",
      "metadata": {
        "id": "-o9YVokalJoc",
        "colab_type": "code",
        "colab": {}
      },
      "source": [
        "recall_fr = cross_val_score(forest_model, X_train, y_train, cv=10, scoring='recall')"
      ],
      "execution_count": 0,
      "outputs": []
    },
    {
      "cell_type": "code",
      "metadata": {
        "id": "3rrQFq93kgca",
        "colab_type": "code",
        "colab": {
          "base_uri": "https://localhost:8080/",
          "height": 170
        },
        "outputId": "9da51a9f-3b42-4f3c-baee-ed1fe613d30f"
      },
      "source": [
        "## gradient Boosting\n",
        "model_grad = GradientBoostingClassifier(n_estimators=100, max_depth=2, random_state=0).fit(X_train, y_train)\n",
        "grad_pred_y = model_grad.predict(X_test)\n",
        "print(classification_report(y_test, grad_pred_y, target_names=['class 0', 'class 1']))"
      ],
      "execution_count": 17,
      "outputs": [
        {
          "output_type": "stream",
          "text": [
            "              precision    recall  f1-score   support\n",
            "\n",
            "     class 0       0.93      0.97      0.95     13490\n",
            "     class 1       0.90      0.78      0.83      4510\n",
            "\n",
            "    accuracy                           0.92     18000\n",
            "   macro avg       0.91      0.87      0.89     18000\n",
            "weighted avg       0.92      0.92      0.92     18000\n",
            "\n"
          ],
          "name": "stdout"
        }
      ]
    },
    {
      "cell_type": "code",
      "metadata": {
        "id": "l3k_VHMMloW_",
        "colab_type": "code",
        "colab": {}
      },
      "source": [
        "recall_gb = cross_val_score(model_grad, X_train, y_train, cv=10, scoring='recall')"
      ],
      "execution_count": 0,
      "outputs": []
    },
    {
      "cell_type": "code",
      "metadata": {
        "id": "yv9k7fw-k6xg",
        "colab_type": "code",
        "colab": {
          "base_uri": "https://localhost:8080/",
          "height": 170
        },
        "outputId": "e39f3b12-addd-4262-c5e3-0ab81f64ca1c"
      },
      "source": [
        "## XGBoost\n",
        "model_xgb = xgboost.XGBClassifier(n_estimators=100, max_depth=1, random_state=0).fit(X_train, y_train)\n",
        "xgb_pred_y = model_xgb.predict(X_test)\n",
        "print(classification_report(y_test, xgb_pred_y, target_names=['class 0', 'class 1']))"
      ],
      "execution_count": 19,
      "outputs": [
        {
          "output_type": "stream",
          "text": [
            "              precision    recall  f1-score   support\n",
            "\n",
            "     class 0       0.91      0.98      0.94     13490\n",
            "     class 1       0.90      0.69      0.79      4510\n",
            "\n",
            "    accuracy                           0.90     18000\n",
            "   macro avg       0.90      0.83      0.86     18000\n",
            "weighted avg       0.90      0.90      0.90     18000\n",
            "\n"
          ],
          "name": "stdout"
        }
      ]
    },
    {
      "cell_type": "code",
      "metadata": {
        "id": "I8jmKMGYlvQP",
        "colab_type": "code",
        "colab": {}
      },
      "source": [
        "recall_xgb = cross_val_score(model_xgb, X_train, y_train, cv=10, scoring='recall')"
      ],
      "execution_count": 0,
      "outputs": []
    },
    {
      "cell_type": "code",
      "metadata": {
        "id": "LEjfxLsKuu_P",
        "colab_type": "code",
        "colab": {
          "base_uri": "https://localhost:8080/",
          "height": 170
        },
        "outputId": "0dd2cac0-7b2e-4fd1-f559-4db5e57a5d0a"
      },
      "source": [
        "import warnings\n",
        "from sklearn.exceptions import ConvergenceWarning\n",
        "warnings.filterwarnings(action='ignore', category=ConvergenceWarning)\n",
        "\n",
        "## Support Vector Classifier + Bagging\n",
        "estimator = LinearSVC()\n",
        "n_estimators = 10\n",
        "n_jobs = 1\n",
        "model = BaggingClassifier(base_estimator=estimator,\n",
        "                          n_estimators=n_estimators,\n",
        "                          max_samples=1./n_estimators,\n",
        "                          n_jobs=n_jobs).fit(X_train, y_train)\n",
        "svc_pred_y = model.predict(X_test)\n",
        "print(classification_report(y_test, svc_pred_y, target_names=['class 0', 'class 1']))"
      ],
      "execution_count": 21,
      "outputs": [
        {
          "output_type": "stream",
          "text": [
            "              precision    recall  f1-score   support\n",
            "\n",
            "     class 0       0.83      0.95      0.89     13490\n",
            "     class 1       0.74      0.42      0.54      4510\n",
            "\n",
            "    accuracy                           0.82     18000\n",
            "   macro avg       0.79      0.69      0.71     18000\n",
            "weighted avg       0.81      0.82      0.80     18000\n",
            "\n"
          ],
          "name": "stdout"
        }
      ]
    },
    {
      "cell_type": "code",
      "metadata": {
        "id": "rKOfUdBplzXm",
        "colab_type": "code",
        "colab": {}
      },
      "source": [
        "recall_svc = cross_val_score(model, X_train, y_train, cv=10, scoring='recall')\n"
      ],
      "execution_count": 0,
      "outputs": []
    },
    {
      "cell_type": "code",
      "metadata": {
        "id": "MJLVlnfI76C2",
        "colab_type": "code",
        "colab": {
          "base_uri": "https://localhost:8080/",
          "height": 255
        },
        "outputId": "611e51df-0cac-43b3-cb3a-47bec5ef8d1e"
      },
      "source": [
        "recall_lr, recall_mnb, recall_tr, recall_fr, recall_gb, recall_xgb, recall_svc"
      ],
      "execution_count": 33,
      "outputs": [
        {
          "output_type": "execute_result",
          "data": {
            "text/plain": [
              "(array([0.60438513, 0.60819828, 0.55672069, 0.61010486, 0.65681602,\n",
              "        0.62535748, 0.60343184, 0.60629171, 0.58627264, 0.62917064]),\n",
              " array([0.74833174, 0.7521449 , 0.75500477, 0.73784557, 0.74928503,\n",
              "        0.74642517, 0.7435653 , 0.73975214, 0.76549094, 0.75023832]),\n",
              " array([0.52716873, 0.53670162, 0.54242135, 0.50333651, 0.55958055,\n",
              "        0.53479504, 0.51668255, 0.48617731, 0.56244042, 0.52812202]),\n",
              " array([0.86558627, 0.83889418, 0.8465205 , 0.83984747, 0.86749285,\n",
              "        0.85795996, 0.86081983, 0.83889418, 0.85224023, 0.87511916]),\n",
              " array([0.76835081, 0.76167779, 0.75977121, 0.77121068, 0.77883699,\n",
              "        0.78551001, 0.77693041, 0.75023832, 0.77025739, 0.78169685]),\n",
              " array([0.6577693 , 0.68446139, 0.67874166, 0.66539561, 0.69780744,\n",
              "        0.68922784, 0.68160153, 0.66730219, 0.66253575, 0.68922784]),\n",
              " array([0.65681602, 0.58627264, 0.60629171, 0.6920877 , 0.521449  ,\n",
              "        0.64156339, 0.42802669, 0.43279314, 0.3593899 , 0.56339371]))"
            ]
          },
          "metadata": {
            "tags": []
          },
          "execution_count": 33
        }
      ]
    },
    {
      "cell_type": "code",
      "metadata": {
        "id": "TqmFUNtxApXM",
        "colab_type": "code",
        "colab": {}
      },
      "source": [
        "recall = pd.DataFrame({'LogisticRegression' : recall_lr, 'Multinomial Naive Bayes' : recall_mnb, 'Decision tree' : recall_tr, 'Random Forest' : recall_fr, 'Gradient Boosting' : recall_gb, 'XGBooster' : recall_xgb, 'SVC' : recall_svc    })"
      ],
      "execution_count": 0,
      "outputs": []
    },
    {
      "cell_type": "code",
      "metadata": {
        "id": "GBMLUh0kI4bo",
        "colab_type": "code",
        "colab": {}
      },
      "source": [
        "# recall.to_csv('/content/drive/My Drive/test_colab/model_recall_score.csv')"
      ],
      "execution_count": 0,
      "outputs": []
    },
    {
      "cell_type": "code",
      "metadata": {
        "id": "0iayiSkz6tcq",
        "colab_type": "code",
        "colab": {
          "base_uri": "https://localhost:8080/",
          "height": 529
        },
        "outputId": "c3dd3b25-92ee-4791-bf21-b77fc3ee6bd5"
      },
      "source": [
        "## boxplot\n",
        "plt.figure(figsize=(12, 7))\n",
        "recall.boxplot(column= ['LogisticRegression', 'Multinomial Naive Bayes', 'Decision tree', 'Random Forest', 'Gradient Boosting', 'XGBooster', 'SVC']) \n",
        "plt.xticks(size = 10, rotation=45)\n",
        "plt.yticks(size = 10)\n",
        "plt.title('Recall by Model')\n",
        "plt.ylabel(\"Recall\")\n",
        "plt.show()"
      ],
      "execution_count": 35,
      "outputs": [
        {
          "output_type": "display_data",
          "data": {
            "image/png": "[encoded data removed]",
            "text/plain": [
              "<Figure size 864x504 with 1 Axes>"
            ]
          },
          "metadata": {
            "tags": []
          }
        }
      ]
    },
    {
      "cell_type": "code",
      "metadata": {
        "id": "ooWKh-D470NY",
        "colab_type": "code",
        "colab": {}
      },
      "source": [
        ""
      ],
      "execution_count": 0,
      "outputs": []
    }
  ]
}